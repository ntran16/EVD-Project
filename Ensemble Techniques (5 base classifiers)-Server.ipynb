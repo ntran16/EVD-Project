{
 "cells": [
  {
   "cell_type": "markdown",
   "metadata": {},
   "source": [
    "## Training/ Testing data"
   ]
  },
  {
   "cell_type": "code",
   "execution_count": 32,
   "metadata": {
    "collapsed": false
   },
   "outputs": [],
   "source": [
    "import numpy as np\n",
    "import pandas as pd\n",
    "from sklearn.cross_validation import StratifiedKFold\n",
    "from sklearn.linear_model import LogisticRegression\n",
    "from sklearn.linear_model import LogisticRegressionCV\n",
    "from sklearn.linear_model import RandomizedLogisticRegression\n",
    "from sklearn.neighbors import KNeighborsClassifier\n",
    "from sklearn.svm import SVC\n",
    "import scipy.io as sio\n",
    "import numpy as np\n",
    "import matplotlib.pyplot as plt\n",
    "from time import time\n",
    "from operator import itemgetter\n",
    "import time\n",
    "from scipy import stats\n",
    "from sklearn.metrics import confusion_matrix\n",
    "import itertools\n",
    "import brew\n",
    "from brew.base import Ensemble\n",
    "from brew.combination.combiner import Combiner\n",
    "from brew.stacking.stacker import EnsembleStack\n",
    "from brew.stacking.stacker import EnsembleStackClassifier\n",
    "from sklearn.svm import SVC\n",
    "from sklearn.ensemble import AdaBoostClassifier\n",
    "\n",
    "from sklearn.model_selection import LeaveOneOut\n",
    "from sklearn.model_selection import cross_val_score\n",
    "from sklearn.model_selection import GridSearchCV\n",
    "from sklearn.model_selection import RandomizedSearchCV\n",
    "from sklearn.model_selection import StratifiedShuffleSplit\n",
    "from sklearn.metrics import roc_curve, auc\n",
    "\n",
    "from sklearn.ensemble import RandomForestClassifier\n",
    "\n",
    "from sklearn import (preprocessing, metrics, cross_validation)\n",
    "\n",
    "from sklearn.externals import joblib\n"
   ]
  },
  {
   "cell_type": "code",
   "execution_count": 187,
   "metadata": {
    "collapsed": false
   },
   "outputs": [],
   "source": [
    "#upsample class 1\n",
    "\n",
    "def upsample(data, labels):\n",
    "    \"\"\"\n",
    "    This function is to upsample the data for the under-repressenting class with replacement. \n",
    "    The result will be a matrix with the same amount of species for each class.\n",
    "    \"\"\"\n",
    "    \n",
    "    from collections import defaultdict\n",
    "    import random\n",
    "\n",
    "    label_indices = defaultdict(lambda: list())\n",
    "    for idx, label in enumerate(labels):\n",
    "        label_indices[label].append(idx)\n",
    "\n",
    "    largest_class_size = max(map(lambda l: len(l), label_indices.values()))\n",
    "\n",
    "    upsampled_indices = []\n",
    "    for label, indices in label_indices.items():\n",
    "        sampled_indices = indices[:]\n",
    "        while len(sampled_indices) < largest_class_size:\n",
    "            sampled_indices.append(random.choice(indices))\n",
    "        upsampled_indices.extend(sampled_indices)\n",
    "\n",
    "    upsampled_labels = labels[upsampled_indices]\n",
    "    upsampled_data = data[upsampled_indices, :]\n",
    "\n",
    "    return upsampled_data, upsampled_labels\n",
    "\n",
    "def Find_Optimal_Cutoff(target, predicted):\n",
    "    \"\"\" Find the optimal probability cutoff point for a classification model related to event rate\n",
    "    Input:\n",
    "    target values \n",
    "    predicted values\n",
    "    \n",
    "    Returns\n",
    "    optimal cutoff value\n",
    "    \"\"\"\n",
    "    fpr, tpr, threshold = roc_curve(target, predicted)\n",
    "    i = np.arange(len(tpr)) \n",
    "    roc = pd.DataFrame({'tf' : pd.Series(tpr-(1-fpr), index=i), 'threshold' : pd.Series(threshold, index=i)})\n",
    "    roc_t = roc.ix[(roc.tf-0).abs().argsort()[:1]]\n",
    "\n",
    "    return list(roc_t['threshold']) \n",
    "\n",
    "def plot_confusion_matrix(cm, classes,\n",
    "                          normalize=False,\n",
    "                          title='Confusion matrix',\n",
    "                          cmap=plt.cm.Blues):\n",
    "    \"\"\"\n",
    "    This function prints and plots the confusion matrix.\n",
    "    Normalization can be applied by setting `normalize=True`.\n",
    "    \"\"\"\n",
    "    plt.imshow(cm, interpolation='nearest', cmap=cmap)\n",
    "    plt.title(title)\n",
    "    plt.colorbar()\n",
    "    tick_marks = np.arange(len(classes))\n",
    "    plt.xticks(tick_marks, classes, rotation=45)\n",
    "    plt.yticks(tick_marks, classes)\n",
    "\n",
    "    if normalize:\n",
    "        cm = cm.astype('float') / cm.sum(axis=1)[:, np.newaxis]\n",
    "        print(\"Normalized confusion matrix\")\n",
    "    else:\n",
    "        print('Confusion matrix, without normalization')\n",
    "\n",
    "    print(cm)\n",
    "\n",
    "    thresh = cm.max() / 2.\n",
    "    for i, j in itertools.product(range(cm.shape[0]), range(cm.shape[1])):\n",
    "        plt.text(j, i, cm[i, j],\n",
    "                 horizontalalignment=\"center\",\n",
    "                 color=\"white\" if cm[i, j] > thresh else \"black\")\n",
    "\n",
    "    plt.tight_layout()\n",
    "    plt.ylabel('True label')\n",
    "    plt.xlabel('Predicted label')\n",
    "\n"
   ]
  },
  {
   "cell_type": "code",
   "execution_count": 235,
   "metadata": {
    "collapsed": false,
    "scrolled": true
   },
   "outputs": [],
   "source": [
    "# divide into test set and training set\n",
    "\n",
    "start = time.time()\n",
    "\n",
    "datapath = 'H:/MatlabProjects/Nate/Dropbox/Rotation 3 Project/Data/FullData/featurematrixandtarget_02h'\n",
    "datacontent = sio.loadmat(datapath)\n",
    "\n",
    "X_tot = datacontent['featm']\n",
    "X_tot = np.nan_to_num(X_tot) # replace nan with 0\n",
    "nsubjects = X_tot.shape[0]\n",
    "# X_tot = stats.zscore(X_tot)\n",
    "# scaler = preprocessing.StandardScaler().fit(X_tot)\n",
    "# X_tot = scaler.transform(X_tot)\n",
    "\n",
    "Yv = datacontent['y']\n",
    "Y_tot = np.ravel(Yv)\n",
    "\n",
    "# datapath = 'D:/Dropbox (Nate)/Rotation 3 Project/Data/FullData_Agg/feature_05h.csv'\n",
    "# datapath_y = 'D:/Dropbox (Nate)/Rotation 3 Project/Data/FullData_Agg/target_05h.csv'\n",
    "# datapath= '/Users/ignacioperez-pozuelo/Dropbox/Rotation 3 Project/Data/FeatData/featurematrixandtarget_20h'\n",
    "# X_tot = pd.read_csv(datapath)\n",
    "# X_tot = np.nan_to_num(X_tot) # replace nan with 0\n",
    "\n",
    "# Y_tot = pd.read_csv(datapath_y)\n",
    "# Y_tot = np.ravel(Y_tot)\n",
    "\n",
    "sss = StratifiedShuffleSplit(n_splits=1, test_size=0.3, random_state=None)\n",
    "for train_index, test_index in sss.split(X_tot, Y_tot):\n",
    "    X, X_test = X_tot[train_index], X_tot[test_index]\n",
    "    Y, Y_test = Y_tot[train_index], Y_tot[test_index]\n",
    "    \n",
    "X,Y = upsample(X,Y)\n",
    "X_test, Y_test = upsample(X_test, Y_test)\n",
    "    \n"
   ]
  },
  {
   "cell_type": "markdown",
   "metadata": {},
   "source": [
    "## Base classifier 1: Logistic Regression"
   ]
  },
  {
   "cell_type": "code",
   "execution_count": 238,
   "metadata": {
    "collapsed": false
   },
   "outputs": [
    {
     "name": "stdout",
     "output_type": "stream",
     "text": [
      "0.551 0.130648383075\n",
      "24.311050176620483\n",
      "Model with rank: 1\n",
      "Mean validation score: 0.551 (std: 0.131)\n",
      "Parameters: {'C': 0.043287612810830614, 'class_weight': 'balanced', 'solver': 'newton-cg'}\n",
      "\n",
      "Model with rank: 2\n",
      "Mean validation score: 0.550 (std: 0.131)\n",
      "Parameters: {'C': 0.043287612810830614, 'class_weight': 'balanced', 'solver': 'lbfgs'}\n",
      "\n",
      "Model with rank: 3\n",
      "Mean validation score: 0.550 (std: 0.123)\n",
      "Parameters: {'C': 0.043287612810830614, 'class_weight': 'balanced', 'solver': 'liblinear'}\n",
      "\n",
      "Model with rank: 4\n",
      "Mean validation score: 0.548 (std: 0.135)\n",
      "Parameters: {'C': 0.021544346900318867, 'class_weight': 'balanced', 'solver': 'newton-cg'}\n",
      "\n",
      "Model with rank: 5\n",
      "Mean validation score: 0.548 (std: 0.135)\n",
      "Parameters: {'C': 0.021544346900318867, 'class_weight': 'balanced', 'solver': 'lbfgs'}\n",
      "\n"
     ]
    },
    {
     "name": "stderr",
     "output_type": "stream",
     "text": [
      "C:\\Users\\hulabapp\\AppData\\Local\\Continuum\\Anaconda3\\lib\\site-packages\\sklearn\\model_selection\\_search.py:667: DeprecationWarning: The grid_scores_ attribute was deprecated in version 0.18 in favor of the more elaborate cv_results_ attribute. The grid_scores_ attribute will not be available from 0.20\n",
      "  DeprecationWarning)\n"
     ]
    }
   ],
   "source": [
    "start = time.time()\n",
    "\n",
    "loo = LeaveOneOut()\n",
    "fold = StratifiedKFold(Y, n_folds=10, shuffle=True, random_state=0)\n",
    "SP = StratifiedShuffleSplit(n_splits=50, test_size=.2, random_state=0)\n",
    "\n",
    "grid = {'C': np.power(10.0, np.linspace(-15, 15,100)), 'solver':['newton-cg','liblinear','lbfgs'],'class_weight':['balanced']}\n",
    "#     score = None\n",
    "# Using LogisticRegressionCV (cross validation search for Logistic regression) and report ROC_AUC score\n",
    "clf = LogisticRegression(penalty='l2'\n",
    "    ,random_state=0\n",
    "    ,fit_intercept=True\n",
    "    ,tol=.001)\n",
    "searchCV = GridSearchCV(clf, grid, scoring='roc_auc', cv=SP, n_jobs = -1)\n",
    "\n",
    "searchCV.fit(X, Y)\n",
    "\n",
    "cvs_score = searchCV.cv_results_['mean_test_score'][searchCV.best_index_]\n",
    "cvs_std = searchCV.cv_results_['std_test_score'][searchCV.best_index_]\n",
    "param = searchCV.cv_results_['params'][searchCV.best_index_]\n",
    "\n",
    "print(cvs_score,cvs_std)\n",
    "\n",
    "end = time.time()\n",
    "print (end - start)\n",
    "\n",
    "grid_scores = searchCV.grid_scores_\n",
    "top_scores_logistic = sorted(grid_scores,\n",
    "                    key=itemgetter(1),\n",
    "                    reverse=True)[:5]\n",
    "for i, score in enumerate(top_scores_logistic):\n",
    "    print(\"Model with rank: {0}\".format(i + 1))\n",
    "    print((\"Mean validation score: \"\n",
    "           \"{0:.3f} (std: {1:.3f})\").format(\n",
    "           score.mean_validation_score,\n",
    "           np.std(score.cv_validation_scores)))\n",
    "    print(\"Parameters: {0}\".format(score.parameters))\n",
    "    print(\"\")\n",
    "    \n"
   ]
  },
  {
   "cell_type": "code",
   "execution_count": 239,
   "metadata": {
    "collapsed": false
   },
   "outputs": [
    {
     "name": "stdout",
     "output_type": "stream",
     "text": [
      "Area is 0.66\n"
     ]
    },
    {
     "data": {
      "image/png": "[encoded data removed]",
      "text/plain": [
       "<matplotlib.figure.Figure at 0x1088673048>"
      ]
     },
     "metadata": {},
     "output_type": "display_data"
    },
    {
     "name": "stdout",
     "output_type": "stream",
     "text": [
      "[0.43602041147164267]\n",
      "[[28 22]\n",
      " [21 29]]\n"
     ]
    },
    {
     "data": {
      "image/png": "[encoded data removed]",
      "text/plain": [
       "<matplotlib.figure.Figure at 0x1088371940>"
      ]
     },
     "metadata": {},
     "output_type": "display_data"
    },
    {
     "name": "stdout",
     "output_type": "stream",
     "text": [
      "Area is 0.56\n"
     ]
    },
    {
     "data": {
      "image/png": "[encoded data removed]",
      "text/plain": [
       "<matplotlib.figure.Figure at 0x108a00b630>"
      ]
     },
     "metadata": {},
     "output_type": "display_data"
    },
    {
     "name": "stdout",
     "output_type": "stream",
     "text": [
      "Confusion matrix, without normalization\n",
      "[[15  7]\n",
      " [10 12]]\n"
     ]
    },
    {
     "data": {
      "image/png": "[encoded data removed]",
      "text/plain": [
       "<matplotlib.figure.Figure at 0x1087eda5c0>"
      ]
     },
     "metadata": {},
     "output_type": "display_data"
    },
    {
     "data": {
      "image/png": "[encoded data removed]",
      "text/plain": [
       "<matplotlib.figure.Figure at 0x1089e9f390>"
      ]
     },
     "metadata": {},
     "output_type": "display_data"
    }
   ],
   "source": [
    "## Fit Training Data and Training Score\n",
    "\n",
    "clf_sub = LogisticRegression(**top_scores_logistic[0].parameters,penalty='l2'\n",
    "    ,random_state=0\n",
    "    ,fit_intercept=True\n",
    "    ,tol=.001)\n",
    "\n",
    "\n",
    "Y_proba = clf_sub.fit(X,Y).predict_proba(X)\n",
    "Y_pred = clf_sub.fit(X,Y).predict(X)\n",
    "Y_df = clf_sub.fit(X,Y).decision_function(X)\n",
    "\n",
    "roc_auc_score = []\n",
    "# fpr, tpr, thresholds = roc_curve(Y, Y_df)\n",
    "fpr, tpr, thresholds = roc_curve(Y, Y_proba[:,1])\n",
    "roc_auc = auc(fpr, tpr)\n",
    "roc_auc_score.append(roc_auc)\n",
    "print('Area is %0.2f' %roc_auc)\n",
    "plt.plot(fpr, tpr, lw=2, color='red')\n",
    "plt.show() \n",
    "\n",
    "threshold = Find_Optimal_Cutoff(Y, Y_proba[:,1])\n",
    "# threshold = .5\n",
    "Y_predict = list(map(lambda x: 1 if x > threshold else 0, Y_proba[:,1]))\n",
    "print (threshold)\n",
    "\n",
    "print(confusion_matrix(Y, Y_predict))\n",
    "\n",
    "## Create histogram of prediction\n",
    "bins = np.linspace(min(Y_proba[:,1]), max(Y_proba[:,1]), 100)\n",
    "\n",
    "plt.hist(Y_proba[:,1][Y==0], bins, alpha=0.5, label='Pass')\n",
    "plt.hist(Y_proba[:,1][Y==1], bins, alpha=0.5, label='Fail')\n",
    "plt.legend(loc='upper right')\n",
    "plt.show()\n",
    "\n",
    "## Resting Data\n",
    "\n",
    "Y_proba = clf_sub.fit(X,Y).predict_proba(X_test)\n",
    "Y_pred = clf_sub.fit(X,Y).predict(X_test)\n",
    "Y_df = clf_sub.fit(X,Y).decision_function(X_test)\n",
    "\n",
    "# threshold = Find_Optimal_Cutoff(Y, Y_proba[:,1])\n",
    "\n",
    "Y_predict = list(map(lambda x: 1 if x > threshold else 0, Y_proba[:,1]))\n",
    "\n",
    "# Print confusion Matrix\n",
    "from sklearn.metrics import confusion_matrix\n",
    "confusion_matrix(Y_test, Y_predict)\n",
    "\n",
    "roc_auc_score = []\n",
    "fpr, tpr, thresholds = roc_curve(Y_test, Y_df)\n",
    "# fpr, tpr, thresholds = roc_curve(Y_test, Y_proba[:,1])\n",
    "roc_auc = auc(fpr, tpr)\n",
    "roc_auc_score.append(roc_auc)\n",
    "print('Area is %0.2f' %roc_auc)\n",
    "plt.plot(fpr, tpr, lw=2, color='red')\n",
    "plt.show() \n",
    "\n",
    "cm = confusion_matrix(Y_test, Y_predict)\n",
    "# Plot non-normalized confusion matrix\n",
    "plot_confusion_matrix(cm, classes=['Pass', 'Fail'],\n",
    "                      title='Confusion matrix')\n",
    "plt.show()\n",
    "\n",
    "## Histogram of testing data\n",
    "\n",
    "bins = np.linspace(min(Y_proba[:,1]), max(Y_proba[:,1]), 100)\n",
    "\n",
    "plt.hist(Y_proba[:,1][Y_test==0], bins, alpha=0.5, label='Pass')\n",
    "plt.hist(Y_proba[:,1][Y_test==1], bins, alpha=0.5, label='Fail')\n",
    "plt.legend(loc='upper right')\n",
    "plt.show()\n"
   ]
  },
  {
   "cell_type": "code",
   "execution_count": 16,
   "metadata": {
    "collapsed": false
   },
   "outputs": [
    {
     "data": {
      "text/plain": [
       "[0,\n",
       " 1,\n",
       " 0,\n",
       " 1,\n",
       " 0,\n",
       " 1,\n",
       " 0,\n",
       " 1,\n",
       " 1,\n",
       " 0,\n",
       " 0,\n",
       " 0,\n",
       " 0,\n",
       " 1,\n",
       " 1,\n",
       " 1,\n",
       " 0,\n",
       " 0,\n",
       " 0,\n",
       " 1,\n",
       " 0,\n",
       " 0,\n",
       " 1,\n",
       " 0,\n",
       " 1,\n",
       " 1,\n",
       " 0,\n",
       " 1,\n",
       " 0,\n",
       " 0,\n",
       " 1,\n",
       " 1,\n",
       " 1,\n",
       " 1,\n",
       " 1,\n",
       " 0,\n",
       " 1,\n",
       " 0,\n",
       " 0,\n",
       " 1,\n",
       " 1,\n",
       " 0,\n",
       " 0,\n",
       " 1]"
      ]
     },
     "execution_count": 16,
     "metadata": {},
     "output_type": "execute_result"
    }
   ],
   "source": [
    "Y_predict\n"
   ]
  },
  {
   "cell_type": "markdown",
   "metadata": {},
   "source": [
    "## Base classifier 2: Random Forest"
   ]
  },
  {
   "cell_type": "code",
   "execution_count": 240,
   "metadata": {
    "collapsed": false
   },
   "outputs": [
    {
     "name": "stdout",
     "output_type": "stream",
     "text": [
      "0.8263 0.09267583288\n",
      "301.48098134994507\n",
      "Model with rank: 1\n",
      "Mean validation score: 0.826 (std: 0.093)\n",
      "Parameters: {'n_estimators': 50, 'min_samples_split': 4, 'min_samples_leaf': 2, 'max_features': 3, 'max_depth': 9, 'criterion': 'entropy', 'bootstrap': False}\n",
      "\n",
      "Model with rank: 2\n",
      "Mean validation score: 0.826 (std: 0.096)\n",
      "Parameters: {'n_estimators': 300, 'min_samples_split': 5, 'min_samples_leaf': 3, 'max_features': 1, 'max_depth': 8, 'criterion': 'entropy', 'bootstrap': False}\n",
      "\n",
      "Model with rank: 3\n",
      "Mean validation score: 0.825 (std: 0.088)\n",
      "Parameters: {'n_estimators': 500, 'min_samples_split': 5, 'min_samples_leaf': 3, 'max_features': 2, 'max_depth': 8, 'criterion': 'gini', 'bootstrap': False}\n",
      "\n",
      "Model with rank: 4\n",
      "Mean validation score: 0.824 (std: 0.092)\n",
      "Parameters: {'n_estimators': 10, 'min_samples_split': 2, 'min_samples_leaf': 2, 'max_features': 2, 'max_depth': 8, 'criterion': 'gini', 'bootstrap': False}\n",
      "\n",
      "Model with rank: 5\n",
      "Mean validation score: 0.823 (std: 0.094)\n",
      "Parameters: {'n_estimators': 50, 'min_samples_split': 5, 'min_samples_leaf': 2, 'max_features': 2, 'max_depth': 7, 'criterion': 'entropy', 'bootstrap': False}\n",
      "\n"
     ]
    },
    {
     "name": "stderr",
     "output_type": "stream",
     "text": [
      "C:\\Users\\hulabapp\\AppData\\Local\\Continuum\\Anaconda3\\lib\\site-packages\\sklearn\\model_selection\\_search.py:667: DeprecationWarning: The grid_scores_ attribute was deprecated in version 0.18 in favor of the more elaborate cv_results_ attribute. The grid_scores_ attribute will not be available from 0.20\n",
      "  DeprecationWarning)\n"
     ]
    }
   ],
   "source": [
    "start = time.time()\n",
    "\n",
    "loo = LeaveOneOut()\n",
    "fold = StratifiedKFold(Y, n_folds=10, shuffle=True, random_state=0)\n",
    "SP = StratifiedShuffleSplit(n_splits=50, test_size=.2, random_state=0)\n",
    "\n",
    "rs = {\"n_estimators\": [10, 50, 100, 300, 500],\n",
    "              \"max_depth\": range(2,10),\n",
    "              \"max_features\": [1, 2, 3, 4, 5, 6],\n",
    "              \"min_samples_split\": range(2,10),\n",
    "              \"min_samples_leaf\": range(2,10),\n",
    "              \"bootstrap\": [True, False],\n",
    "              \"criterion\": [\"gini\", \"entropy\"]} \n",
    "\n",
    "#     score = None\n",
    "# Using LogisticRegressionCV (cross validation search for Logistic regression) and report ROC_AUC score\n",
    "clf = RandomForestClassifier(class_weight = 'balanced')\n",
    "searchCV = RandomizedSearchCV(clf, rs, n_iter=500, scoring='roc_auc', cv=SP, n_jobs=-1)\n",
    "\n",
    "searchCV.fit(X, Y)\n",
    "\n",
    "cvs_score = searchCV.cv_results_['mean_test_score'][searchCV.best_index_]\n",
    "cvs_std = searchCV.cv_results_['std_test_score'][searchCV.best_index_]\n",
    "param = searchCV.cv_results_['params'][searchCV.best_index_]\n",
    "\n",
    "print(cvs_score,cvs_std)\n",
    "\n",
    "end = time.time()\n",
    "print (end - start)\n",
    "\n",
    "grid_scores = searchCV.grid_scores_\n",
    "top_scores_rf = sorted(grid_scores,\n",
    "                    key=itemgetter(1),\n",
    "                    reverse=True)[:5]\n",
    "for i, score in enumerate(top_scores_rf):\n",
    "    print(\"Model with rank: {0}\".format(i + 1))\n",
    "    print((\"Mean validation score: \"\n",
    "           \"{0:.3f} (std: {1:.3f})\").format(\n",
    "           score.mean_validation_score,\n",
    "           np.std(score.cv_validation_scores)))\n",
    "    print(\"Parameters: {0}\".format(score.parameters))\n",
    "    print(\"\")\n",
    "    \n",
    "\n"
   ]
  },
  {
   "cell_type": "code",
   "execution_count": 241,
   "metadata": {
    "collapsed": false
   },
   "outputs": [
    {
     "name": "stdout",
     "output_type": "stream",
     "text": [
      "Area is 1.00\n"
     ]
    },
    {
     "data": {
      "image/png": "[encoded data removed]",
      "text/plain": [
       "<matplotlib.figure.Figure at 0x108a037b38>"
      ]
     },
     "metadata": {},
     "output_type": "display_data"
    },
    {
     "name": "stdout",
     "output_type": "stream",
     "text": [
      "[0.61289828678946334]\n",
      "[[50  0]\n",
      " [ 1 49]]\n"
     ]
    },
    {
     "data": {
      "image/png": "[encoded data removed]",
      "text/plain": [
       "<matplotlib.figure.Figure at 0x1088736898>"
      ]
     },
     "metadata": {},
     "output_type": "display_data"
    },
    {
     "name": "stdout",
     "output_type": "stream",
     "text": [
      "Area is 0.60\n"
     ]
    },
    {
     "data": {
      "image/png": "[encoded data removed]",
      "text/plain": [
       "<matplotlib.figure.Figure at 0x108a312240>"
      ]
     },
     "metadata": {},
     "output_type": "display_data"
    },
    {
     "name": "stdout",
     "output_type": "stream",
     "text": [
      "Confusion matrix, without normalization\n",
      "[[19  3]\n",
      " [21  1]]\n"
     ]
    },
    {
     "data": {
      "image/png": "[encoded data removed]",
      "text/plain": [
       "<matplotlib.figure.Figure at 0x1095e1a630>"
      ]
     },
     "metadata": {},
     "output_type": "display_data"
    },
    {
     "data": {
      "image/png": "[encoded data removed]",
      "text/plain": [
       "<matplotlib.figure.Figure at 0x108a3b4e10>"
      ]
     },
     "metadata": {},
     "output_type": "display_data"
    }
   ],
   "source": [
    "## Fit Training Data and Training Score\n",
    "\n",
    "clf_sub = RandomForestClassifier(**top_scores_rf[0].parameters, class_weight = 'balanced')\n",
    "\n",
    "Y_proba = clf_sub.fit(X,Y).predict_proba(X)\n",
    "Y_pred = clf_sub.fit(X,Y).predict(X)\n",
    "# Y_df = clf_sub.fit(X,Y).decision_function(X)\n",
    "\n",
    "roc_auc_score = []\n",
    "# fpr, tpr, thresholds = roc_curve(Y, Y_df)\n",
    "fpr, tpr, thresholds = roc_curve(Y, Y_proba[:,1])\n",
    "roc_auc = auc(fpr, tpr)\n",
    "roc_auc_score.append(roc_auc)\n",
    "print('Area is %0.2f' %roc_auc)\n",
    "plt.plot(fpr, tpr, lw=2, color='red')\n",
    "plt.show() \n",
    "\n",
    "threshold = Find_Optimal_Cutoff(Y, Y_proba[:,1])\n",
    "# threshold = .5\n",
    "Y_predict = list(map(lambda x: 1 if x > threshold else 0, Y_proba[:,1]))\n",
    "print (threshold)\n",
    "\n",
    "print(confusion_matrix(Y, Y_predict))\n",
    "\n",
    "## Create histogram of prediction\n",
    "bins = np.linspace(min(Y_proba[:,1]), max(Y_proba[:,1]), 100)\n",
    "\n",
    "plt.hist(Y_proba[:,1][Y==0], bins, alpha=0.5, label='Pass')\n",
    "plt.hist(Y_proba[:,1][Y==1], bins, alpha=0.5, label='Fail')\n",
    "plt.legend(loc='upper right')\n",
    "plt.show()\n",
    "\n",
    "## Resting Data\n",
    "\n",
    "Y_proba = clf_sub.fit(X,Y).predict_proba(X_test)\n",
    "Y_pred = clf_sub.fit(X,Y).predict(X_test)\n",
    "# Y_df = clf_sub.fit(X,Y).decision_function(X_test)\n",
    "\n",
    "# threshold = Find_Optimal_Cutoff(Y, Y_proba[:,1])\n",
    "\n",
    "Y_predict = list(map(lambda x: 1 if x > threshold else 0, Y_proba[:,1]))\n",
    "\n",
    "# Print confusion Matrix\n",
    "from sklearn.metrics import confusion_matrix\n",
    "confusion_matrix(Y_test, Y_predict)\n",
    "\n",
    "roc_auc_score = []\n",
    "# fpr, tpr, thresholds = roc_curve(Y_test, Y_df)\n",
    "fpr, tpr, thresholds = roc_curve(Y_test, Y_proba[:,1])\n",
    "roc_auc = auc(fpr, tpr)\n",
    "roc_auc_score.append(roc_auc)\n",
    "print('Area is %0.2f' %roc_auc)\n",
    "plt.plot(fpr, tpr, lw=2, color='red')\n",
    "plt.show() \n",
    "\n",
    "cm = confusion_matrix(Y_test, Y_predict)\n",
    "# Plot non-normalized confusion matrix\n",
    "plot_confusion_matrix(cm, classes=['Pass', 'Fail'],\n",
    "                      title='Confusion matrix')\n",
    "plt.show()\n",
    "\n",
    "## Histogram of testing data\n",
    "\n",
    "bins = np.linspace(min(Y_proba[:,1]), max(Y_proba[:,1]), 100)\n",
    "\n",
    "plt.hist(Y_proba[:,1][Y_test==0], bins, alpha=0.5, label='Pass')\n",
    "plt.hist(Y_proba[:,1][Y_test==1], bins, alpha=0.5, label='Fail')\n",
    "plt.legend(loc='upper right')\n",
    "plt.show()"
   ]
  },
  {
   "cell_type": "markdown",
   "metadata": {},
   "source": [
    "## SVC - rbf"
   ]
  },
  {
   "cell_type": "code",
   "execution_count": 205,
   "metadata": {
    "collapsed": false
   },
   "outputs": [
    {
     "name": "stdout",
     "output_type": "stream",
     "text": [
      "0.8923 0.0790013291027\n",
      "125.66467237472534\n",
      "Model with rank: 1\n",
      "Mean validation score: 0.892 (std: 0.079)\n",
      "Parameters: {'gamma': 26.56087782946684, 'C': 231.01297000831582}\n",
      "\n",
      "Model with rank: 2\n",
      "Mean validation score: 0.892 (std: 0.079)\n",
      "Parameters: {'gamma': 26.56087782946684, 'C': 49770235.643321142}\n",
      "\n",
      "Model with rank: 3\n",
      "Mean validation score: 0.892 (std: 0.079)\n",
      "Parameters: {'gamma': 26.56087782946684, 'C': 756463.32755462907}\n",
      "\n",
      "Model with rank: 4\n",
      "Mean validation score: 0.892 (std: 0.075)\n",
      "Parameters: {'gamma': 327.45491628777319, 'C': 247707.63559917139}\n",
      "\n",
      "Model with rank: 5\n",
      "Mean validation score: 0.892 (std: 0.075)\n",
      "Parameters: {'gamma': 327.45491628777319, 'C': 1232.8467394420659}\n",
      "\n"
     ]
    },
    {
     "name": "stderr",
     "output_type": "stream",
     "text": [
      "C:\\Users\\hulabapp\\AppData\\Local\\Continuum\\Anaconda3\\lib\\site-packages\\sklearn\\model_selection\\_search.py:667: DeprecationWarning: The grid_scores_ attribute was deprecated in version 0.18 in favor of the more elaborate cv_results_ attribute. The grid_scores_ attribute will not be available from 0.20\n",
      "  DeprecationWarning)\n"
     ]
    }
   ],
   "source": [
    "start = time.time()\n",
    "\n",
    "loo = LeaveOneOut()\n",
    "fold = StratifiedKFold(Y, n_folds=10, shuffle=True, random_state=0)\n",
    "SP = StratifiedShuffleSplit(n_splits=50, test_size=.2, random_state=0)\n",
    "\n",
    "rs = {'gamma': np.logspace(-9, 3, 100), 'C': np.logspace(-2, 10, 100)} \n",
    "\n",
    "#     score = None\n",
    "# Using LogisticRegressionCV (cross validation search for Logistic regression) and report ROC_AUC score\n",
    "clf = SVC(class_weight = 'balanced')\n",
    "searchCV = RandomizedSearchCV(clf, rs, n_iter=200, scoring='roc_auc', cv=SP, n_jobs=-1)\n",
    "\n",
    "searchCV.fit(X, Y)\n",
    "\n",
    "cvs_score = searchCV.cv_results_['mean_test_score'][searchCV.best_index_]\n",
    "cvs_std = searchCV.cv_results_['std_test_score'][searchCV.best_index_]\n",
    "param = searchCV.cv_results_['params'][searchCV.best_index_]\n",
    "\n",
    "print(cvs_score,cvs_std)\n",
    "\n",
    "end = time.time()\n",
    "print (end - start)\n",
    "\n",
    "grid_scores = searchCV.grid_scores_\n",
    "top_scores_svc_rbf = sorted(grid_scores,\n",
    "                    key=itemgetter(1),\n",
    "                    reverse=True)[:5]\n",
    "for i, score in enumerate(top_scores_svc_rbf):\n",
    "    print(\"Model with rank: {0}\".format(i + 1))\n",
    "    print((\"Mean validation score: \"\n",
    "           \"{0:.3f} (std: {1:.3f})\").format(\n",
    "           score.mean_validation_score,\n",
    "           np.std(score.cv_validation_scores)))\n",
    "    print(\"Parameters: {0}\".format(score.parameters))\n",
    "    print(\"\")\n",
    "    \n",
    "\n"
   ]
  },
  {
   "cell_type": "code",
   "execution_count": 206,
   "metadata": {
    "collapsed": false
   },
   "outputs": [
    {
     "name": "stdout",
     "output_type": "stream",
     "text": [
      "Confusion matrix, without normalization\n",
      "[[21  1]\n",
      " [22  0]]\n"
     ]
    },
    {
     "data": {
      "image/png": "[encoded data removed]",
      "text/plain": [
       "<matplotlib.figure.Figure at 0x10888c02b0>"
      ]
     },
     "metadata": {},
     "output_type": "display_data"
    },
    {
     "data": {
      "image/png": "[encoded data removed]",
      "text/plain": [
       "<matplotlib.figure.Figure at 0x1089fe2e80>"
      ]
     },
     "metadata": {},
     "output_type": "display_data"
    },
    {
     "name": "stdout",
     "output_type": "stream",
     "text": [
      "Accuracy Score 0.4773\n",
      "Specificity Score 0.4773\n",
      "Precision Score 0.0000\n",
      "F1 Score 0.0000\n",
      "Sensitivity Score 0.0000\n"
     ]
    }
   ],
   "source": [
    "## Fit Training Data and Training Score\n",
    "\n",
    "clf_sub = SVC(**top_scores_svc_rbf[0].parameters, class_weight = 'balanced')\n",
    "\n",
    "# Y_proba = clf_sub.fit(X,Y).predict_proba(X)\n",
    "# Y_pred = clf_sub.fit(X,Y).predict(X)\n",
    "# Y_df = clf_sub.fit(X,Y).decision_function(X)\n",
    "\n",
    "# roc_auc_score = []\n",
    "# # fpr, tpr, thresholds = roc_curve(Y, Y_df)\n",
    "# fpr, tpr, thresholds = roc_curve(Y, Y_proba[:,1])\n",
    "# roc_auc = auc(fpr, tpr)\n",
    "# roc_auc_score.append(roc_auc)\n",
    "# print('Area is %0.2f' %roc_auc)\n",
    "# plt.plot(fpr, tpr, lw=2, color='red')\n",
    "# plt.show() \n",
    "\n",
    "# # threshold = Find_Optimal_Cutoff(Y, Y_proba[:,1])\n",
    "# # threshold = .1\n",
    "# Y_predict = list(map(lambda x: 1 if x > threshold else 0, Y_proba[:,1]))\n",
    "# print (threshold)\n",
    "\n",
    "# print(confusion_matrix(Y, Y_predict))\n",
    "\n",
    "# ## Create histogram of prediction\n",
    "# bins = np.linspace(min(Y_proba[:,1]), max(Y_proba[:,1]), 100)\n",
    "\n",
    "# plt.hist(Y_proba[:,1][Y==0], bins, alpha=0.5, label='Pass')\n",
    "# plt.hist(Y_proba[:,1][Y==1], bins, alpha=0.5, label='Fail')\n",
    "# plt.legend(loc='upper right')\n",
    "# plt.show()\n",
    "\n",
    "# ## Testing Data\n",
    "\n",
    "# Y_proba = clf_sub.fit(X,Y).predict_proba(X_test)\n",
    "Y_predict = clf_sub.fit(X,Y).predict(X_test)\n",
    "# Y_df = clf_sub.fit(X,Y).decision_function(X_test)\n",
    "\n",
    "# # threshold = Find_Optimal_Cutoff(Y, Y_proba[:,1])\n",
    "\n",
    "# Y_predict = list(map(lambda x: 1 if x > threshold else 0, Y_proba[:,1]))\n",
    "\n",
    "# Print confusion Matrix\n",
    "from sklearn.metrics import confusion_matrix\n",
    "confusion_matrix(Y_test, Y_predict)\n",
    "\n",
    "# roc_auc_score = []\n",
    "# # fpr, tpr, thresholds = roc_curve(Y_test, Y_df)\n",
    "# fpr, tpr, thresholds = roc_curve(Y_test, Y_proba[:,1])\n",
    "# roc_auc = auc(fpr, tpr)\n",
    "# roc_auc_score.append(roc_auc)\n",
    "# print('Area is %0.2f' %roc_auc)\n",
    "# plt.plot(fpr, tpr, lw=2, color='red')\n",
    "# plt.show() \n",
    "\n",
    "cm = confusion_matrix(Y_test, Y_predict)\n",
    "# Plot non-normalized confusion matrix\n",
    "plot_confusion_matrix(cm, classes=['Pass', 'Fail'],\n",
    "                      title='Confusion matrix')\n",
    "plt.show()\n",
    "\n",
    "## Histogram of testing data\n",
    "\n",
    "bins = np.linspace(min(Y_proba[:,1]), max(Y_proba[:,1]), 100)\n",
    "\n",
    "plt.hist(Y_proba[:,1][Y_test==0], bins, alpha=0.5, label='Pass')\n",
    "plt.hist(Y_proba[:,1][Y_test==1], bins, alpha=0.5, label='Fail')\n",
    "plt.legend(loc='upper right')\n",
    "plt.show()\n",
    "\n",
    "from sklearn.metrics import accuracy_score, precision_score, f1_score, recall_score\n",
    "print('Accuracy Score %0.4f' %accuracy_score(Y_test,Y_predict))\n",
    "from imblearn.metrics import sensitivity_specificity_support\n",
    "print('Specificity Score %0.4f'%(sensitivity_specificity_support(Y_test, Y_predict, average = 'macro')[1]))\n",
    "print('Precision Score %0.4f' %precision_score(Y_test, Y_predict))\n",
    "print('F1 Score %0.4f' %f1_score(Y_test, Y_predict))\n",
    "print('Sensitivity Score %0.4f' %recall_score(Y_test, Y_predict))"
   ]
  },
  {
   "cell_type": "code",
   "execution_count": 25,
   "metadata": {
    "collapsed": false
   },
   "outputs": [
    {
     "data": {
      "text/plain": [
       "[0,\n",
       " 0,\n",
       " 0,\n",
       " 0,\n",
       " 0,\n",
       " 0,\n",
       " 0,\n",
       " 0,\n",
       " 0,\n",
       " 0,\n",
       " 0,\n",
       " 0,\n",
       " 0,\n",
       " 0,\n",
       " 0,\n",
       " 0,\n",
       " 0,\n",
       " 0,\n",
       " 0,\n",
       " 0,\n",
       " 0,\n",
       " 0,\n",
       " 0,\n",
       " 0,\n",
       " 0,\n",
       " 0,\n",
       " 0,\n",
       " 0,\n",
       " 1,\n",
       " 0,\n",
       " 0,\n",
       " 0,\n",
       " 0,\n",
       " 0,\n",
       " 0,\n",
       " 0,\n",
       " 0,\n",
       " 1,\n",
       " 0,\n",
       " 0,\n",
       " 0,\n",
       " 0,\n",
       " 1,\n",
       " 0]"
      ]
     },
     "execution_count": 25,
     "metadata": {},
     "output_type": "execute_result"
    }
   ],
   "source": [
    "Y_predict"
   ]
  },
  {
   "cell_type": "markdown",
   "metadata": {},
   "source": [
    "## k-nearest neighbor"
   ]
  },
  {
   "cell_type": "code",
   "execution_count": 153,
   "metadata": {
    "collapsed": false
   },
   "outputs": [
    {
     "name": "stdout",
     "output_type": "stream",
     "text": [
      "0.7113 0.117323527052\n",
      "50.14182925224304\n",
      "Model with rank: 1\n",
      "Mean validation score: 0.711 (std: 0.117)\n",
      "Parameters: {'n_neighbors': 6, 'leaf_size': 59, 'algorithm': 'kd_tree'}\n",
      "\n",
      "Model with rank: 2\n",
      "Mean validation score: 0.711 (std: 0.117)\n",
      "Parameters: {'n_neighbors': 6, 'leaf_size': 31, 'algorithm': 'brute'}\n",
      "\n",
      "Model with rank: 3\n",
      "Mean validation score: 0.711 (std: 0.117)\n",
      "Parameters: {'n_neighbors': 6, 'leaf_size': 7, 'algorithm': 'ball_tree'}\n",
      "\n",
      "Model with rank: 4\n",
      "Mean validation score: 0.711 (std: 0.117)\n",
      "Parameters: {'n_neighbors': 6, 'leaf_size': 39, 'algorithm': 'kd_tree'}\n",
      "\n",
      "Model with rank: 5\n",
      "Mean validation score: 0.711 (std: 0.117)\n",
      "Parameters: {'n_neighbors': 6, 'leaf_size': 1, 'algorithm': 'kd_tree'}\n",
      "\n"
     ]
    },
    {
     "name": "stderr",
     "output_type": "stream",
     "text": [
      "C:\\Users\\hulabapp\\AppData\\Local\\Continuum\\Anaconda3\\lib\\site-packages\\sklearn\\model_selection\\_search.py:667: DeprecationWarning: The grid_scores_ attribute was deprecated in version 0.18 in favor of the more elaborate cv_results_ attribute. The grid_scores_ attribute will not be available from 0.20\n",
      "  DeprecationWarning)\n"
     ]
    }
   ],
   "source": [
    "start = time.time()\n",
    "\n",
    "loo = LeaveOneOut()\n",
    "fold = StratifiedKFold(Y, n_folds=10, shuffle=True, random_state=0)\n",
    "SP = StratifiedShuffleSplit(n_splits=50, test_size=.2, random_state=0)\n",
    "\n",
    "rs = {'n_neighbors': np.arange(5,20)+1, 'algorithm': ['auto', 'ball_tree', 'kd_tree', 'brute'], 'leaf_size': np.arange(100)+1}\n",
    "\n",
    "#     score = None\n",
    "# Using LogisticRegressionCV (cross validation search for Logistic regression) and report ROC_AUC score\n",
    "clf = KNeighborsClassifier()\n",
    "searchCV = RandomizedSearchCV(clf, rs, n_iter=200, scoring='roc_auc', cv=SP, n_jobs=-1)\n",
    "\n",
    "searchCV.fit(X, Y)\n",
    "\n",
    "cvs_score = searchCV.cv_results_['mean_test_score'][searchCV.best_index_]\n",
    "cvs_std = searchCV.cv_results_['std_test_score'][searchCV.best_index_]\n",
    "param = searchCV.cv_results_['params'][searchCV.best_index_]\n",
    "\n",
    "print(cvs_score,cvs_std)\n",
    "\n",
    "end = time.time()\n",
    "print (end - start)\n",
    "\n",
    "grid_scores = searchCV.grid_scores_\n",
    "top_scores_knn = sorted(grid_scores,\n",
    "                    key=itemgetter(1),\n",
    "                    reverse=True)[:5]\n",
    "for i, score in enumerate(top_scores_knn):\n",
    "    print(\"Model with rank: {0}\".format(i + 1))\n",
    "    print((\"Mean validation score: \"\n",
    "           \"{0:.3f} (std: {1:.3f})\").format(\n",
    "           score.mean_validation_score,\n",
    "           np.std(score.cv_validation_scores)))\n",
    "    print(\"Parameters: {0}\".format(score.parameters))\n",
    "    print(\"\")\n",
    "    "
   ]
  },
  {
   "cell_type": "code",
   "execution_count": 81,
   "metadata": {
    "collapsed": false
   },
   "outputs": [
    {
     "name": "stdout",
     "output_type": "stream",
     "text": [
      "Area is 1.00\n"
     ]
    },
    {
     "data": {
      "image/png": "[encoded data removed]",
      "text/plain": [
       "<matplotlib.figure.Figure at 0x1089fe28d0>"
      ]
     },
     "metadata": {},
     "output_type": "display_data"
    },
    {
     "name": "stdout",
     "output_type": "stream",
     "text": [
      "0.5\n",
      "[[49  0]\n",
      " [ 0 49]]\n"
     ]
    },
    {
     "data": {
      "image/png": "[encoded data removed]",
      "text/plain": [
       "<matplotlib.figure.Figure at 0x1089e2fc50>"
      ]
     },
     "metadata": {},
     "output_type": "display_data"
    },
    {
     "name": "stdout",
     "output_type": "stream",
     "text": [
      "Area is 0.61\n"
     ]
    },
    {
     "data": {
      "image/png": "[encoded data removed]",
      "text/plain": [
       "<matplotlib.figure.Figure at 0x10888f0400>"
      ]
     },
     "metadata": {},
     "output_type": "display_data"
    },
    {
     "name": "stdout",
     "output_type": "stream",
     "text": [
      "Confusion matrix, without normalization\n",
      "[[12 10]\n",
      " [ 7 15]]\n"
     ]
    },
    {
     "data": {
      "image/png": "[encoded data removed]",
      "text/plain": [
       "<matplotlib.figure.Figure at 0x10885cec50>"
      ]
     },
     "metadata": {},
     "output_type": "display_data"
    },
    {
     "data": {
      "image/png": "[encoded data removed]",
      "text/plain": [
       "<matplotlib.figure.Figure at 0x10885ceb38>"
      ]
     },
     "metadata": {},
     "output_type": "display_data"
    }
   ],
   "source": [
    "## Fit Training Data and Training Score\n",
    "\n",
    "clf_sub = KNeighborsClassifier(**top_scores_knn[0].parameters)\n",
    "\n",
    "Y_proba = clf_sub.fit(X,Y).predict_proba(X)\n",
    "Y_pred = clf_sub.fit(X,Y).predict(X)\n",
    "# Y_df = clf_sub.fit(X,Y).decision_function(X)\n",
    "\n",
    "roc_auc_score = []\n",
    "# fpr, tpr, thresholds = roc_curve(Y, Y_df)\n",
    "fpr, tpr, thresholds = roc_curve(Y, Y_proba[:,1])\n",
    "roc_auc = auc(fpr, tpr)\n",
    "roc_auc_score.append(roc_auc)\n",
    "print('Area is %0.2f' %roc_auc)\n",
    "plt.plot(fpr, tpr, lw=2, color='red')\n",
    "plt.show() \n",
    "\n",
    "# threshold = Find_Optimal_Cutoff(Y, Y_proba[:,1])\n",
    "threshold = .5\n",
    "Y_predict = list(map(lambda x: 1 if x > threshold else 0, Y_proba[:,1]))\n",
    "print (threshold)\n",
    "\n",
    "print(confusion_matrix(Y, Y_predict))\n",
    "\n",
    "## Create histogram of prediction\n",
    "bins = np.linspace(min(Y_proba[:,1]), max(Y_proba[:,1]), 100)\n",
    "\n",
    "plt.hist(Y_proba[:,1][Y==0], bins, alpha=0.5, label='Pass')\n",
    "plt.hist(Y_proba[:,1][Y==1], bins, alpha=0.5, label='Fail')\n",
    "plt.legend(loc='upper right')\n",
    "plt.show()\n",
    "\n",
    "## Resting Data\n",
    "\n",
    "Y_proba = clf_sub.fit(X,Y).predict_proba(X_test)\n",
    "Y_pred = clf_sub.fit(X,Y).predict(X_test)\n",
    "# Y_df = clf_sub.fit(X,Y).decision_function(X_test)\n",
    "\n",
    "# threshold = Find_Optimal_Cutoff(Y, Y_proba[:,1])\n",
    "\n",
    "Y_predict = list(map(lambda x: 1 if x > threshold else 0, Y_proba[:,1]))\n",
    "\n",
    "# Print confusion Matrix\n",
    "from sklearn.metrics import confusion_matrix\n",
    "confusion_matrix(Y_test, Y_predict)\n",
    "\n",
    "roc_auc_score = []\n",
    "# fpr, tpr, thresholds = roc_curve(Y_test, Y_df)\n",
    "fpr, tpr, thresholds = roc_curve(Y_test, Y_proba[:,1])\n",
    "roc_auc = auc(fpr, tpr)\n",
    "roc_auc_score.append(roc_auc)\n",
    "print('Area is %0.2f' %roc_auc)\n",
    "plt.plot(fpr, tpr, lw=2, color='red')\n",
    "plt.show() \n",
    "\n",
    "cm = confusion_matrix(Y_test, Y_predict)\n",
    "# Plot non-normalized confusion matrix\n",
    "plot_confusion_matrix(cm, classes=['Pass', 'Fail'],\n",
    "                      title='Confusion matrix')\n",
    "plt.show()\n",
    "\n",
    "## Histogram of testing data\n",
    "\n",
    "bins = np.linspace(min(Y_proba[:,1]), max(Y_proba[:,1]), 100)\n",
    "\n",
    "plt.hist(Y_proba[:,1][Y_test==0], bins, alpha=0.5, label='Pass')\n",
    "plt.hist(Y_proba[:,1][Y_test==1], bins, alpha=0.5, label='Fail')\n",
    "plt.legend(loc='upper right')\n",
    "plt.show()"
   ]
  },
  {
   "cell_type": "markdown",
   "metadata": {},
   "source": [
    "## Logistic Stacking"
   ]
  },
  {
   "cell_type": "code",
   "execution_count": 368,
   "metadata": {
    "collapsed": false
   },
   "outputs": [
    {
     "name": "stdout",
     "output_type": "stream",
     "text": [
      "Creating train and test sets for blending.\n"
     ]
    }
   ],
   "source": [
    "skf = list(StratifiedKFold(Y, n_folds = 10))\n",
    "\n",
    "# clfs = [RandomForestClassifier(**{'n_estimators': 100, 'min_samples_split': 9, 'min_samples_leaf': 9, 'max_features': 2, 'max_depth': 5, 'criterion': 'gini', 'bootstrap': False}),\n",
    "#         RandomForestClassifier(**{'n_estimators': 50, 'min_samples_split': 3, 'min_samples_leaf': 3, 'max_features': 1, 'max_depth': 8, 'criterion': 'gini', 'bootstrap': False}),\n",
    "#         RandomForestClassifier(**{'n_estimators': 10, 'min_samples_split': 8, 'min_samples_leaf': 8, 'max_features': 1, 'max_depth': 4, 'criterion': 'entropy', 'bootstrap': False}),\n",
    "#         RandomForestClassifier(**{'n_estimators': 50, 'min_samples_split': 2, 'min_samples_leaf': 6, 'max_features': 2, 'max_depth': 8, 'criterion': 'gini', 'bootstrap': False}),\n",
    "#         RandomForestClassifier(**{'n_estimators': 500, 'min_samples_split': 6, 'min_samples_leaf': 2, 'max_features': 1, 'max_depth': 4, 'criterion': 'entropy', 'bootstrap': True}),\n",
    "#         LogisticRegression(**top_scores[0].parameters,penalty='l2',random_state=0,fit_intercept=True,tol=.005),\n",
    "#         LogisticRegression(**top_scores[1].parameters,penalty='l2',random_state=0,fit_intercept=True,tol=.005),\n",
    "#         LogisticRegression(**top_scores[2].parameters,penalty='l2',random_state=0,fit_intercept=True,tol=.005),\n",
    "#         LogisticRegression(**top_scores[3].parameters,penalty='l2',random_state=0,fit_intercept=True,tol=.005),\n",
    "#         LogisticRegression(**top_scores[4].parameters,penalty='l2',random_state=0,fit_intercept=True,tol=.005)]\n",
    "\n",
    "clfs = [LogisticRegression(**top_scores[0].parameters,penalty='l2',random_state=0,fit_intercept=True,tol=.005),\n",
    "        LogisticRegression(**top_scores[1].parameters,penalty='l2',random_state=0,fit_intercept=True,tol=.005),\n",
    "        LogisticRegression(**top_scores[2].parameters,penalty='l2',random_state=0,fit_intercept=True,tol=.005),\n",
    "        LogisticRegression(**top_scores[3].parameters,penalty='l2',random_state=0,fit_intercept=True,tol=.005),\n",
    "        LogisticRegression(**top_scores[4].parameters,penalty='l2',random_state=0,fit_intercept=True,tol=.005),]\n",
    "#        LogisticRegression(**top_scores[5].parameters,penalty='l2',random_state=0,fit_intercept=True,tol=.005),\n",
    "#        LogisticRegression(**top_scores[6].parameters,penalty='l2',random_state=0,fit_intercept=True,tol=.005),\n",
    "#        LogisticRegression(**top_scores[7].parameters,penalty='l2',random_state=0,fit_intercept=True,tol=.005),\n",
    "#        LogisticRegression(**top_scores[8].parameters,penalty='l2',random_state=0,fit_intercept=True,tol=.005),\n",
    "#        LogisticRegression(**top_scores[9].parameters,penalty='l2',random_state=0,fit_intercept=True,tol=.005)]\n",
    "\n",
    "print (\"Creating train and test sets for blending.\")\n",
    "\n",
    "dataset_blend_train = np.zeros((X.shape[0], len(clfs)))\n",
    "dataset_blend_test = np.zeros((X_test.shape[0], len(clfs)))\n",
    "\n",
    "for j, clf in enumerate(clfs):\n",
    "    dataset_blend_test_j = np.zeros((X_test.shape[0], len(skf)))\n",
    "    for i, (train, test) in enumerate(skf):\n",
    "        X_tr = X[train]\n",
    "        y_tr = Y[train]\n",
    "        X_te = X[test]\n",
    "        y_te = Y[test]\n",
    "        clf.fit(X_tr, y_tr)\n",
    "        y_submission = clf.predict_proba(X_te)[:, 1]\n",
    "        dataset_blend_train[test, j] = y_submission\n",
    "        dataset_blend_test_j[:, i] = clf.predict_proba(X_test)[:, 1]\n",
    "    dataset_blend_test[:, j] = dataset_blend_test_j.mean(1)\n",
    "\n",
    "clf = LogisticRegression()\n",
    "clf.fit(dataset_blend_train, Y)\n",
    "y_sub = clf.predict_proba(dataset_blend_train)[:,1]\n",
    "y_submission = clf.predict_proba(dataset_blend_test)[:, 1]\n",
    "\n"
   ]
  },
  {
   "cell_type": "code",
   "execution_count": 369,
   "metadata": {
    "collapsed": false
   },
   "outputs": [
    {
     "name": "stdout",
     "output_type": "stream",
     "text": [
      "Area is 0.60\n"
     ]
    },
    {
     "data": {
      "image/png": "[encoded data removed]",
      "text/plain": [
       "<matplotlib.figure.Figure at 0x2143c50a208>"
      ]
     },
     "metadata": {},
     "output_type": "display_data"
    },
    {
     "name": "stdout",
     "output_type": "stream",
     "text": [
      "Confusion matrix, without normalization\n",
      "[[12 10]\n",
      " [10 12]]\n"
     ]
    },
    {
     "data": {
      "image/png": "[encoded data removed]",
      "text/plain": [
       "<matplotlib.figure.Figure at 0x2143c5672e8>"
      ]
     },
     "metadata": {},
     "output_type": "display_data"
    }
   ],
   "source": [
    "roc_auc_score = []\n",
    "fpr, tpr, thresholds = roc_curve(Y_test, y_submission)\n",
    "# fpr, tpr, thresholds = roc_curve(Y_test, Y_proba[:,1])\n",
    "roc_auc = auc(fpr, tpr)\n",
    "roc_auc_score.append(roc_auc)\n",
    "print('Area is %0.2f' %roc_auc)\n",
    "plt.plot(fpr, tpr, lw=2, color='red')\n",
    "plt.show() \n",
    "\n",
    "# threshold = Find_Optimal_Cutoff(Y, y_sub)\n",
    "threshold = .5\n",
    "\n",
    "Y_predict = list(map(lambda x: 1 if x > threshold else 0, y_submission))\n",
    "\n",
    "labels = ['pass', 'fail']\n",
    "\n",
    "\n",
    "cm = confusion_matrix(Y_test, Y_predict)\n",
    "# Plot non-normalized confusion matrix\n",
    "plot_confusion_matrix(cm, classes=['Pass', 'Fail'],\n",
    "                      title='Confusion matrix')\n",
    "plt.show()\n",
    "# print(Y_test.shape, y_submission.shape)"
   ]
  },
  {
   "cell_type": "code",
   "execution_count": 264,
   "metadata": {
    "collapsed": false
   },
   "outputs": [
    {
     "data": {
      "image/png": "[encoded data removed]",
      "text/plain": [
       "<matplotlib.figure.Figure at 0x2143c810a90>"
      ]
     },
     "metadata": {},
     "output_type": "display_data"
    }
   ],
   "source": [
    "bins = np.linspace(min(y_submission), max(y_submission), 100)\n",
    "\n",
    "plt.hist(y_submission[Y_test==0], bins, alpha=0.5, label='Pass')\n",
    "plt.hist(y_submission[Y_test==1], bins, alpha=0.5, label='Fail')\n",
    "plt.legend(loc='upper right')\n",
    "plt.show()"
   ]
  },
  {
   "cell_type": "markdown",
   "metadata": {},
   "source": [
    "## Mean Stacking"
   ]
  },
  {
   "cell_type": "code",
   "execution_count": 370,
   "metadata": {
    "collapsed": false
   },
   "outputs": [],
   "source": [
    "layer_1 = [LogisticRegression(**top_scores[0].parameters,penalty='l2',random_state=0,fit_intercept=True,tol=.005),\n",
    "        LogisticRegression(**top_scores[1].parameters,penalty='l2',random_state=0,fit_intercept=True,tol=.005),\n",
    "        LogisticRegression(**top_scores[2].parameters,penalty='l2',random_state=0,fit_intercept=True,tol=.005),\n",
    "        LogisticRegression(**top_scores[3].parameters,penalty='l2',random_state=0,fit_intercept=True,tol=.005),\n",
    "        LogisticRegression(**top_scores[4].parameters,penalty='l2',random_state=0,fit_intercept=True,tol=.005)]\n",
    " \n",
    "layer_2 = [SVC(probability=True), LogisticRegression(max_iter=500)]\n",
    " \n",
    "stack = EnsembleStack(cv=10) # number of folds per layer\n",
    "stack.add_layer(Ensemble(layer_1))\n",
    "stack.add_layer(Ensemble(layer_2))\n",
    " \n",
    "clf = EnsembleStackClassifier(stack, Combiner('mean'))\n",
    "\n",
    "# Train ensemble model on data and test \n",
    "\n",
    "clf.fit(X, Y)\n",
    "y_stack_train = clf.predict_proba(X)[:,1]\n",
    "y_stack_test = clf.predict_proba(X_test)[:,1]"
   ]
  },
  {
   "cell_type": "code",
   "execution_count": 372,
   "metadata": {
    "collapsed": false
   },
   "outputs": [
    {
     "name": "stdout",
     "output_type": "stream",
     "text": [
      "Area is 0.60\n"
     ]
    },
    {
     "data": {
      "image/png": "[encoded data removed]",
      "text/plain": [
       "<matplotlib.figure.Figure at 0x2143c6f2fd0>"
      ]
     },
     "metadata": {},
     "output_type": "display_data"
    },
    {
     "name": "stdout",
     "output_type": "stream",
     "text": [
      "Confusion matrix, without normalization\n",
      "[[13  9]\n",
      " [10 12]]\n"
     ]
    },
    {
     "data": {
      "image/png": "[encoded data removed]",
      "text/plain": [
       "<matplotlib.figure.Figure at 0x2143b137080>"
      ]
     },
     "metadata": {},
     "output_type": "display_data"
    }
   ],
   "source": [
    "roc_auc_score = []\n",
    "fpr, tpr, thresholds = roc_curve(Y_test, y_stack_test)\n",
    "# fpr, tpr, thresholds = roc_curve(Y_test, Y_proba[:,1])\n",
    "roc_auc = auc(fpr, tpr)\n",
    "roc_auc_score.append(roc_auc)\n",
    "print('Area is %0.2f' %roc_auc)\n",
    "plt.plot(fpr, tpr, lw=2, color='red')\n",
    "plt.show() \n",
    "\n",
    "# threshold = Find_Optimal_Cutoff(Y, y_stack_train)\n",
    "threshold = .5\n",
    "\n",
    "Y_predict = list(map(lambda x: 1 if x > threshold else 0, y_stack_test))\n",
    "\n",
    "labels = ['pass', 'fail']\n",
    "\n",
    "def plot_confusion_matrix(cm, classes,\n",
    "                          normalize=False,\n",
    "                          title='Confusion matrix',\n",
    "                          cmap=plt.cm.Blues):\n",
    "    \"\"\"\n",
    "    This function prints and plots the confusion matrix.\n",
    "    Normalization can be applied by setting `normalize=True`.\n",
    "    \"\"\"\n",
    "    plt.imshow(cm, interpolation='nearest', cmap=cmap)\n",
    "    plt.title(title)\n",
    "    plt.colorbar()\n",
    "    tick_marks = np.arange(len(classes))\n",
    "    plt.xticks(tick_marks, classes, rotation=45)\n",
    "    plt.yticks(tick_marks, classes)\n",
    "\n",
    "    if normalize:\n",
    "        cm = cm.astype('float') / cm.sum(axis=1)[:, np.newaxis]\n",
    "        print(\"Normalized confusion matrix\")\n",
    "    else:\n",
    "        print('Confusion matrix, without normalization')\n",
    "\n",
    "    print(cm)\n",
    "\n",
    "    thresh = cm.max() / 2.\n",
    "    for i, j in itertools.product(range(cm.shape[0]), range(cm.shape[1])):\n",
    "        plt.text(j, i, cm[i, j],\n",
    "                 horizontalalignment=\"center\",\n",
    "                 color=\"white\" if cm[i, j] > thresh else \"black\")\n",
    "\n",
    "    plt.tight_layout()\n",
    "    plt.ylabel('True label')\n",
    "    plt.xlabel('Predicted label')\n",
    "\n",
    "cm = confusion_matrix(Y_test, Y_predict)\n",
    "# Plot non-normalized confusion matrix\n",
    "plot_confusion_matrix(cm, classes=['Pass', 'Fail'],\n",
    "                      title='Confusion matrix')\n",
    "plt.show()\n",
    "# print(Y_test.shape, y_submission.shape)"
   ]
  },
  {
   "cell_type": "markdown",
   "metadata": {
    "collapsed": true
   },
   "source": [
    "## Boosting Classifier Logistic"
   ]
  },
  {
   "cell_type": "code",
   "execution_count": 242,
   "metadata": {
    "collapsed": false
   },
   "outputs": [
    {
     "ename": "ValueError",
     "evalue": "BaseClassifier in AdaBoostClassifier ensemble is worse than random, ensemble can not be fit.",
     "output_type": "error",
     "traceback": [
      "\u001b[0;31m---------------------------------------------------------------------------\u001b[0m",
      "\u001b[0;31mValueError\u001b[0m                                Traceback (most recent call last)",
      "\u001b[0;32m<ipython-input-242-318df783303e>\u001b[0m in \u001b[0;36m<module>\u001b[0;34m()\u001b[0m\n\u001b[1;32m      1\u001b[0m \u001b[0mclf\u001b[0m \u001b[1;33m=\u001b[0m \u001b[0mAdaBoostClassifier\u001b[0m\u001b[1;33m(\u001b[0m\u001b[0mLogisticRegression\u001b[0m\u001b[1;33m(\u001b[0m\u001b[1;33m**\u001b[0m\u001b[0mtop_scores_logistic\u001b[0m\u001b[1;33m[\u001b[0m\u001b[1;36m0\u001b[0m\u001b[1;33m]\u001b[0m\u001b[1;33m.\u001b[0m\u001b[0mparameters\u001b[0m\u001b[1;33m,\u001b[0m\u001b[0mpenalty\u001b[0m\u001b[1;33m=\u001b[0m\u001b[1;34m'l2'\u001b[0m\u001b[1;33m,\u001b[0m\u001b[0mrandom_state\u001b[0m\u001b[1;33m=\u001b[0m\u001b[1;36m0\u001b[0m\u001b[1;33m,\u001b[0m\u001b[0mfit_intercept\u001b[0m\u001b[1;33m=\u001b[0m\u001b[1;32mTrue\u001b[0m\u001b[1;33m,\u001b[0m\u001b[0mtol\u001b[0m\u001b[1;33m=\u001b[0m\u001b[1;36m.005\u001b[0m\u001b[1;33m)\u001b[0m\u001b[1;33m,\u001b[0m \u001b[0malgorithm\u001b[0m\u001b[1;33m=\u001b[0m\u001b[1;34m\"SAMME\"\u001b[0m\u001b[1;33m,\u001b[0m \u001b[0mn_estimators\u001b[0m\u001b[1;33m=\u001b[0m\u001b[1;36m200\u001b[0m\u001b[1;33m)\u001b[0m\u001b[1;33m\u001b[0m\u001b[0m\n\u001b[1;32m      2\u001b[0m \u001b[1;31m# scores = cross_val_score(clf, X, Y)\u001b[0m\u001b[1;33m\u001b[0m\u001b[1;33m\u001b[0m\u001b[0m\n\u001b[0;32m----> 3\u001b[0;31m \u001b[0mclf\u001b[0m\u001b[1;33m.\u001b[0m\u001b[0mfit\u001b[0m\u001b[1;33m(\u001b[0m\u001b[0mX\u001b[0m\u001b[1;33m,\u001b[0m \u001b[0mY\u001b[0m\u001b[1;33m)\u001b[0m\u001b[1;33m\u001b[0m\u001b[0m\n\u001b[0m\u001b[1;32m      4\u001b[0m \u001b[0my_boost_train\u001b[0m \u001b[1;33m=\u001b[0m \u001b[0mclf\u001b[0m\u001b[1;33m.\u001b[0m\u001b[0mpredict_proba\u001b[0m\u001b[1;33m(\u001b[0m\u001b[0mX\u001b[0m\u001b[1;33m)\u001b[0m\u001b[1;33m[\u001b[0m\u001b[1;33m:\u001b[0m\u001b[1;33m,\u001b[0m\u001b[1;36m1\u001b[0m\u001b[1;33m]\u001b[0m\u001b[1;33m\u001b[0m\u001b[0m\n\u001b[1;32m      5\u001b[0m \u001b[0my_boost_test\u001b[0m \u001b[1;33m=\u001b[0m \u001b[0mclf\u001b[0m\u001b[1;33m.\u001b[0m\u001b[0mpredict_proba\u001b[0m\u001b[1;33m(\u001b[0m\u001b[0mX_test\u001b[0m\u001b[1;33m)\u001b[0m\u001b[1;33m[\u001b[0m\u001b[1;33m:\u001b[0m\u001b[1;33m,\u001b[0m\u001b[1;36m1\u001b[0m\u001b[1;33m]\u001b[0m\u001b[1;33m\u001b[0m\u001b[0m\n",
      "\u001b[0;32mC:\\Users\\hulabapp\\AppData\\Local\\Continuum\\Anaconda3\\lib\\site-packages\\sklearn\\ensemble\\weight_boosting.py\u001b[0m in \u001b[0;36mfit\u001b[0;34m(self, X, y, sample_weight)\u001b[0m\n\u001b[1;32m    409\u001b[0m \u001b[1;33m\u001b[0m\u001b[0m\n\u001b[1;32m    410\u001b[0m         \u001b[1;31m# Fit\u001b[0m\u001b[1;33m\u001b[0m\u001b[1;33m\u001b[0m\u001b[0m\n\u001b[0;32m--> 411\u001b[0;31m         \u001b[1;32mreturn\u001b[0m \u001b[0msuper\u001b[0m\u001b[1;33m(\u001b[0m\u001b[0mAdaBoostClassifier\u001b[0m\u001b[1;33m,\u001b[0m \u001b[0mself\u001b[0m\u001b[1;33m)\u001b[0m\u001b[1;33m.\u001b[0m\u001b[0mfit\u001b[0m\u001b[1;33m(\u001b[0m\u001b[0mX\u001b[0m\u001b[1;33m,\u001b[0m \u001b[0my\u001b[0m\u001b[1;33m,\u001b[0m \u001b[0msample_weight\u001b[0m\u001b[1;33m)\u001b[0m\u001b[1;33m\u001b[0m\u001b[0m\n\u001b[0m\u001b[1;32m    412\u001b[0m \u001b[1;33m\u001b[0m\u001b[0m\n\u001b[1;32m    413\u001b[0m     \u001b[1;32mdef\u001b[0m \u001b[0m_validate_estimator\u001b[0m\u001b[1;33m(\u001b[0m\u001b[0mself\u001b[0m\u001b[1;33m)\u001b[0m\u001b[1;33m:\u001b[0m\u001b[1;33m\u001b[0m\u001b[0m\n",
      "\u001b[0;32mC:\\Users\\hulabapp\\AppData\\Local\\Continuum\\Anaconda3\\lib\\site-packages\\sklearn\\ensemble\\weight_boosting.py\u001b[0m in \u001b[0;36mfit\u001b[0;34m(self, X, y, sample_weight)\u001b[0m\n\u001b[1;32m    141\u001b[0m                 \u001b[0mX\u001b[0m\u001b[1;33m,\u001b[0m \u001b[0my\u001b[0m\u001b[1;33m,\u001b[0m\u001b[1;33m\u001b[0m\u001b[0m\n\u001b[1;32m    142\u001b[0m                 \u001b[0msample_weight\u001b[0m\u001b[1;33m,\u001b[0m\u001b[1;33m\u001b[0m\u001b[0m\n\u001b[0;32m--> 143\u001b[0;31m                 random_state)\n\u001b[0m\u001b[1;32m    144\u001b[0m \u001b[1;33m\u001b[0m\u001b[0m\n\u001b[1;32m    145\u001b[0m             \u001b[1;31m# Early termination\u001b[0m\u001b[1;33m\u001b[0m\u001b[1;33m\u001b[0m\u001b[0m\n",
      "\u001b[0;32mC:\\Users\\hulabapp\\AppData\\Local\\Continuum\\Anaconda3\\lib\\site-packages\\sklearn\\ensemble\\weight_boosting.py\u001b[0m in \u001b[0;36m_boost\u001b[0;34m(self, iboost, X, y, sample_weight, random_state)\u001b[0m\n\u001b[1;32m    473\u001b[0m         \u001b[1;32melse\u001b[0m\u001b[1;33m:\u001b[0m  \u001b[1;31m# elif self.algorithm == \"SAMME\":\u001b[0m\u001b[1;33m\u001b[0m\u001b[0m\n\u001b[1;32m    474\u001b[0m             return self._boost_discrete(iboost, X, y, sample_weight,\n\u001b[0;32m--> 475\u001b[0;31m                                         random_state)\n\u001b[0m\u001b[1;32m    476\u001b[0m \u001b[1;33m\u001b[0m\u001b[0m\n\u001b[1;32m    477\u001b[0m     \u001b[1;32mdef\u001b[0m \u001b[0m_boost_real\u001b[0m\u001b[1;33m(\u001b[0m\u001b[0mself\u001b[0m\u001b[1;33m,\u001b[0m \u001b[0miboost\u001b[0m\u001b[1;33m,\u001b[0m \u001b[0mX\u001b[0m\u001b[1;33m,\u001b[0m \u001b[0my\u001b[0m\u001b[1;33m,\u001b[0m \u001b[0msample_weight\u001b[0m\u001b[1;33m,\u001b[0m \u001b[0mrandom_state\u001b[0m\u001b[1;33m)\u001b[0m\u001b[1;33m:\u001b[0m\u001b[1;33m\u001b[0m\u001b[0m\n",
      "\u001b[0;32mC:\\Users\\hulabapp\\AppData\\Local\\Continuum\\Anaconda3\\lib\\site-packages\\sklearn\\ensemble\\weight_boosting.py\u001b[0m in \u001b[0;36m_boost_discrete\u001b[0;34m(self, iboost, X, y, sample_weight, random_state)\u001b[0m\n\u001b[1;32m    562\u001b[0m             \u001b[0mself\u001b[0m\u001b[1;33m.\u001b[0m\u001b[0mestimators_\u001b[0m\u001b[1;33m.\u001b[0m\u001b[0mpop\u001b[0m\u001b[1;33m(\u001b[0m\u001b[1;33m-\u001b[0m\u001b[1;36m1\u001b[0m\u001b[1;33m)\u001b[0m\u001b[1;33m\u001b[0m\u001b[0m\n\u001b[1;32m    563\u001b[0m             \u001b[1;32mif\u001b[0m \u001b[0mlen\u001b[0m\u001b[1;33m(\u001b[0m\u001b[0mself\u001b[0m\u001b[1;33m.\u001b[0m\u001b[0mestimators_\u001b[0m\u001b[1;33m)\u001b[0m \u001b[1;33m==\u001b[0m \u001b[1;36m0\u001b[0m\u001b[1;33m:\u001b[0m\u001b[1;33m\u001b[0m\u001b[0m\n\u001b[0;32m--> 564\u001b[0;31m                 raise ValueError('BaseClassifier in AdaBoostClassifier '\n\u001b[0m\u001b[1;32m    565\u001b[0m                                  \u001b[1;34m'ensemble is worse than random, ensemble '\u001b[0m\u001b[1;33m\u001b[0m\u001b[0m\n\u001b[1;32m    566\u001b[0m                                  'can not be fit.')\n",
      "\u001b[0;31mValueError\u001b[0m: BaseClassifier in AdaBoostClassifier ensemble is worse than random, ensemble can not be fit."
     ]
    }
   ],
   "source": [
    "clf = AdaBoostClassifier(LogisticRegression(**top_scores_logistic[0].parameters,penalty='l2',random_state=0,fit_intercept=True,tol=.005), algorithm=\"SAMME\", n_estimators=200)\n",
    "# scores = cross_val_score(clf, X, Y)\n",
    "clf.fit(X, Y)\n",
    "y_boost_train = clf.predict_proba(X)[:,1]\n",
    "y_boost_test = clf.predict_proba(X_test)[:,1]\n",
    "\n",
    "roc_auc_score = []\n",
    "fpr, tpr, thresholds = roc_curve(Y_test, y_boost_test)\n",
    "# fpr, tpr, thresholds = roc_curve(Y_test, Y_proba[:,1])\n",
    "roc_auc = auc(fpr, tpr)\n",
    "roc_auc_score.append(roc_auc)\n",
    "print('Area is %0.2f' %roc_auc)\n",
    "plt.plot(fpr, tpr, lw=2, color='red')\n",
    "plt.show() \n",
    "\n",
    "threshold = Find_Optimal_Cutoff(Y, y_boost_train)\n",
    "# threshold = .5\n",
    "\n",
    "Y_predict = list(map(lambda x: 1 if x > threshold else 0, y_boost_test))\n",
    "\n",
    "labels = ['pass', 'fail']\n",
    "\n",
    "def plot_confusion_matrix(cm, classes,\n",
    "                          normalize=False,\n",
    "                          title='Confusion matrix',\n",
    "                          cmap=plt.cm.Blues):\n",
    "    \"\"\"\n",
    "    This function prints and plots the confusion matrix.\n",
    "    Normalization can be applied by setting `normalize=True`.\n",
    "    \"\"\"\n",
    "    plt.imshow(cm, interpolation='nearest', cmap=cmap)\n",
    "    plt.title(title)\n",
    "    plt.colorbar()\n",
    "    tick_marks = np.arange(len(classes))\n",
    "    plt.xticks(tick_marks, classes, rotation=45)\n",
    "    plt.yticks(tick_marks, classes)\n",
    "\n",
    "    if normalize:\n",
    "        cm = cm.astype('float') / cm.sum(axis=1)[:, np.newaxis]\n",
    "        print(\"Normalized confusion matrix\")\n",
    "    else:\n",
    "        print('Confusion matrix, without normalization')\n",
    "\n",
    "    print(cm)\n",
    "\n",
    "    thresh = cm.max() / 2.\n",
    "    for i, j in itertools.product(range(cm.shape[0]), range(cm.shape[1])):\n",
    "        plt.text(j, i, cm[i, j],\n",
    "                 horizontalalignment=\"center\",\n",
    "                 color=\"white\" if cm[i, j] > thresh else \"black\")\n",
    "\n",
    "    plt.tight_layout()\n",
    "    plt.ylabel('True label')\n",
    "    plt.xlabel('Predicted label')\n",
    "\n",
    "cm = confusion_matrix(Y_test, Y_predict)\n",
    "# Plot non-normalized confusion matrix\n",
    "plot_confusion_matrix(cm, classes=['Pass', 'Fail'],\n",
    "                      title='Confusion matrix')\n",
    "plt.show()\n",
    "# print(Y_test.shape, y_submission.shape)"
   ]
  },
  {
   "cell_type": "markdown",
   "metadata": {},
   "source": [
    "## Boosting Classifier (RandomForest)"
   ]
  },
  {
   "cell_type": "code",
   "execution_count": null,
   "metadata": {
    "collapsed": false
   },
   "outputs": [],
   "source": [
    "clf = AdaBoostClassifier(RandomForestClassifier(**top_scores_rf[0].parameters, class_weight = 'balanced'), algorithm=\"SAMME\", n_estimators=200)\n",
    "# scores = cross_val_score(clf, X, Y)\n",
    "clf.fit(X, Y)\n",
    "y_boost_train = clf.predict_proba(X)[:,1]\n",
    "y_boost_test = clf.predict_proba(X_test)[:,1]\n",
    "\n",
    "roc_auc_score = []\n",
    "fpr, tpr, thresholds = roc_curve(Y_test, y_boost_test)\n",
    "# fpr, tpr, thresholds = roc_curve(Y_test, Y_proba[:,1])\n",
    "roc_auc = auc(fpr, tpr)\n",
    "roc_auc_score.append(roc_auc)\n",
    "print('Area is %0.2f' %roc_auc)\n",
    "plt.plot(fpr, tpr, lw=2, color='red')\n",
    "plt.show() \n",
    "\n",
    "threshold = Find_Optimal_Cutoff(Y, y_boost_train)\n",
    "# threshold = .5\n",
    "\n",
    "Y_predict = list(map(lambda x: 1 if x > threshold else 0, y_boost_test))\n",
    "\n",
    "labels = ['pass', 'fail']\n",
    "\n",
    "def plot_confusion_matrix(cm, classes,\n",
    "                          normalize=False,\n",
    "                          title='Confusion matrix',\n",
    "                          cmap=plt.cm.Blues):\n",
    "    \"\"\"\n",
    "    This function prints and plots the confusion matrix.\n",
    "    Normalization can be applied by setting `normalize=True`.\n",
    "    \"\"\"\n",
    "    plt.imshow(cm, interpolation='nearest', cmap=cmap)\n",
    "    plt.title(title)\n",
    "    plt.colorbar()\n",
    "    tick_marks = np.arange(len(classes))\n",
    "    plt.xticks(tick_marks, classes, rotation=45)\n",
    "    plt.yticks(tick_marks, classes)\n",
    "\n",
    "    if normalize:\n",
    "        cm = cm.astype('float') / cm.sum(axis=1)[:, np.newaxis]\n",
    "        print(\"Normalized confusion matrix\")\n",
    "    else:\n",
    "        print('Confusion matrix, without normalization')\n",
    "\n",
    "    print(cm)\n",
    "\n",
    "    thresh = cm.max() / 2.\n",
    "    for i, j in itertools.product(range(cm.shape[0]), range(cm.shape[1])):\n",
    "        plt.text(j, i, cm[i, j],\n",
    "                 horizontalalignment=\"center\",\n",
    "                 color=\"white\" if cm[i, j] > thresh else \"black\")\n",
    "\n",
    "    plt.tight_layout()\n",
    "    plt.ylabel('True label')\n",
    "    plt.xlabel('Predicted label')\n",
    "\n",
    "cm = confusion_matrix(Y_test, Y_predict)\n",
    "# Plot non-normalized confusion matrix\n",
    "plot_confusion_matrix(cm, classes=['Pass', 'Fail'],\n",
    "                      title='Confusion matrix')\n",
    "plt.show()\n",
    "# print(Y_test.shape, y_submission.shape)"
   ]
  },
  {
   "cell_type": "code",
   "execution_count": 88,
   "metadata": {
    "collapsed": false
   },
   "outputs": [
    {
     "data": {
      "text/plain": [
       "AdaBoostClassifier(algorithm='SAMME',\n",
       "          base_estimator=[LogisticRegression(C=1.0, class_weight=None, dual=False, fit_intercept=True,\n",
       "          intercept_scaling=1, max_iter=100, multi_class='ovr', n_jobs=1,\n",
       "          penalty='l2', random_state=0, solver='liblinear', tol=0.005,\n",
       "          verbose=0, warm_start=False), RandomForestClassifier... n_jobs=1,\n",
       "            oob_score=False, random_state=None, verbose=0,\n",
       "            warm_start=False)],\n",
       "          learning_rate=1.0, n_estimators=200, random_state=None)"
      ]
     },
     "execution_count": 88,
     "metadata": {},
     "output_type": "execute_result"
    }
   ],
   "source": [
    "clf4"
   ]
  },
  {
   "cell_type": "code",
   "execution_count": 146,
   "metadata": {
    "collapsed": false
   },
   "outputs": [
    {
     "name": "stdout",
     "output_type": "stream",
     "text": [
      "Area is 0.78\n"
     ]
    },
    {
     "data": {
      "image/png": "[encoded data removed]",
      "text/plain": [
       "<matplotlib.figure.Figure at 0x108a36d828>"
      ]
     },
     "metadata": {},
     "output_type": "display_data"
    },
    {
     "name": "stdout",
     "output_type": "stream",
     "text": [
      "Confusion matrix, without normalization\n",
      "[[20  2]\n",
      " [ 9 13]]\n"
     ]
    },
    {
     "data": {
      "image/png": "[encoded data removed]",
      "text/plain": [
       "<matplotlib.figure.Figure at 0x108a107a90>"
      ]
     },
     "metadata": {},
     "output_type": "display_data"
    }
   ],
   "source": [
    "clf0 = LogisticRegression(**top_scores_logistic[0].parameters,penalty='l2'\n",
    "    ,random_state=0\n",
    "    ,fit_intercept=True\n",
    "    ,tol=.001)\n",
    "clf1 = LogisticRegression(**top_scores_logistic[1].parameters,penalty='l2'\n",
    "    ,random_state=0\n",
    "    ,fit_intercept=True\n",
    "    ,tol=.001)\n",
    "clf2 = AdaBoostClassifier(LogisticRegression(**top_scores_logistic[0].parameters,penalty='l2',random_state=0,fit_intercept=True,tol=.005), algorithm=\"SAMME\", n_estimators=200)\n",
    "clf3 = AdaBoostClassifier(LogisticRegression(**top_scores_logistic[1].parameters,penalty='l2',random_state=0,fit_intercept=True,tol=.005), algorithm=\"SAMME\", n_estimators=200)\n",
    "clf4 = RandomForestClassifier(**top_scores_rf[0].parameters, class_weight = 'balanced')\n",
    "clf5 = RandomForestClassifier(**top_scores_rf[1].parameters, class_weight = 'balanced')\n",
    "clf6 = AdaBoostClassifier(RandomForestClassifier(**top_scores_rf[0].parameters, class_weight = 'balanced'), algorithm=\"SAMME\", n_estimators=200)\n",
    "clf7 = AdaBoostClassifier(RandomForestClassifier(**top_scores_rf[1].parameters, class_weight = 'balanced'), algorithm=\"SAMME\", n_estimators=200)\n",
    "clf8 = SVC(**top_scores_svc_rbf[0].parameters, class_weight = 'balanced')\n",
    "clf9 = SVC(**top_scores_svc_rbf[1].parameters, class_weight = 'balanced')\n",
    "\n",
    "layer_1 = [clf3,clf4,clf5]\n",
    " \n",
    "layer_2 = [LogisticRegression()]\n",
    " \n",
    "stack = EnsembleStack(cv=10) # number of folds per layer\n",
    "stack.add_layer(Ensemble(layer_1))\n",
    "stack.add_layer(Ensemble(layer_2))\n",
    " \n",
    "clf = EnsembleStackClassifier(stack, Combiner('mean'))\n",
    "\n",
    "# Train ensemble model on data and test \n",
    "\n",
    "clf.fit(X, Y)\n",
    "y_stack_train = clf.predict_proba(X)[:,1]\n",
    "y_stack_test = clf.predict_proba(X_test)[:,1]\n",
    "\n",
    "roc_auc_score = []\n",
    "fpr, tpr, thresholds = roc_curve(Y_test, y_stack_test)\n",
    "# fpr, tpr, thresholds = roc_curve(Y_test, Y_proba[:,1])\n",
    "roc_auc = auc(fpr, tpr)\n",
    "roc_auc_score.append(roc_auc)\n",
    "print('Area is %0.2f' %roc_auc)\n",
    "plt.plot(fpr, tpr, lw=2, color='red')\n",
    "plt.show() \n",
    "\n",
    "threshold = Find_Optimal_Cutoff(Y, y_stack_train)\n",
    "# threshold = .5\n",
    "\n",
    "Y_predict = list(map(lambda x: 1 if x > threshold else 0, y_stack_test))\n",
    "\n",
    "labels = ['pass', 'fail']\n",
    "\n",
    "def plot_confusion_matrix(cm, classes,\n",
    "                          normalize=False,\n",
    "                          title='Confusion matrix',\n",
    "                          cmap=plt.cm.Blues):\n",
    "    \"\"\"\n",
    "    This function prints and plots the confusion matrix.\n",
    "    Normalization can be applied by setting `normalize=True`.\n",
    "    \"\"\"\n",
    "    plt.imshow(cm, interpolation='nearest', cmap=cmap)\n",
    "    plt.title(title)\n",
    "    plt.colorbar()\n",
    "    tick_marks = np.arange(len(classes))\n",
    "    plt.xticks(tick_marks, classes, rotation=45)\n",
    "    plt.yticks(tick_marks, classes)\n",
    "\n",
    "    if normalize:\n",
    "        cm = cm.astype('float') / cm.sum(axis=1)[:, np.newaxis]\n",
    "        print(\"Normalized confusion matrix\")\n",
    "    else:\n",
    "        print('Confusion matrix, without normalization')\n",
    "\n",
    "    print(cm)\n",
    "\n",
    "    thresh = cm.max() / 2.\n",
    "    for i, j in itertools.product(range(cm.shape[0]), range(cm.shape[1])):\n",
    "        plt.text(j, i, cm[i, j],\n",
    "                 horizontalalignment=\"center\",\n",
    "                 color=\"white\" if cm[i, j] > thresh else \"black\")\n",
    "\n",
    "    plt.tight_layout()\n",
    "    plt.ylabel('True label')\n",
    "    plt.xlabel('Predicted label')\n",
    "\n",
    "cm = confusion_matrix(Y_test, Y_predict)\n",
    "# Plot non-normalized confusion matrix\n",
    "plot_confusion_matrix(cm, classes=['Pass', 'Fail'],\n",
    "                      title='Confusion matrix')\n",
    "plt.show()\n",
    "# print(Y_test.shape, y_submission.shape)"
   ]
  },
  {
   "cell_type": "markdown",
   "metadata": {},
   "source": [
    "## Bagging KNN"
   ]
  },
  {
   "cell_type": "code",
   "execution_count": 160,
   "metadata": {
    "collapsed": false
   },
   "outputs": [
    {
     "name": "stdout",
     "output_type": "stream",
     "text": [
      "Area is 0.56\n"
     ]
    },
    {
     "data": {
      "image/png": "[encoded data removed]",
      "text/plain": [
       "<matplotlib.figure.Figure at 0x108a2b9470>"
      ]
     },
     "metadata": {},
     "output_type": "display_data"
    },
    {
     "name": "stdout",
     "output_type": "stream",
     "text": [
      "Confusion matrix, without normalization\n",
      "[[13  9]\n",
      " [12 10]]\n"
     ]
    },
    {
     "data": {
      "image/png": "[encoded data removed]",
      "text/plain": [
       "<matplotlib.figure.Figure at 0x10885f14a8>"
      ]
     },
     "metadata": {},
     "output_type": "display_data"
    }
   ],
   "source": [
    "from sklearn.ensemble import BaggingClassifier\n",
    "clf = BaggingClassifier(KNeighborsClassifier(**top_scores_knn[1].parameters),max_samples=0.8, max_features=0.5)\n",
    "# scores = cross_val_score(clf, X, Y)\n",
    "clf.fit(X, Y)\n",
    "y_boost_train = clf.predict_proba(X)[:,1]\n",
    "y_boost_test = clf.predict_proba(X_test)[:,1]\n",
    "\n",
    "roc_auc_score = []\n",
    "fpr, tpr, thresholds = roc_curve(Y_test, y_boost_test)\n",
    "# fpr, tpr, thresholds = roc_curve(Y_test, Y_proba[:,1])\n",
    "roc_auc = auc(fpr, tpr)\n",
    "roc_auc_score.append(roc_auc)\n",
    "print('Area is %0.2f' %roc_auc)\n",
    "plt.plot(fpr, tpr, lw=2, color='red')\n",
    "plt.show() \n",
    "\n",
    "threshold = Find_Optimal_Cutoff(Y, y_boost_train)\n",
    "# threshold = .5\n",
    "\n",
    "Y_predict = list(map(lambda x: 1 if x > threshold else 0, y_boost_test))\n",
    "\n",
    "labels = ['pass', 'fail']\n",
    "\n",
    "def plot_confusion_matrix(cm, classes,\n",
    "                          normalize=False,\n",
    "                          title='Confusion matrix',\n",
    "                          cmap=plt.cm.Blues):\n",
    "    \"\"\"\n",
    "    This function prints and plots the confusion matrix.\n",
    "    Normalization can be applied by setting `normalize=True`.\n",
    "    \"\"\"\n",
    "    plt.imshow(cm, interpolation='nearest', cmap=cmap)\n",
    "    plt.title(title)\n",
    "    plt.colorbar()\n",
    "    tick_marks = np.arange(len(classes))\n",
    "    plt.xticks(tick_marks, classes, rotation=45)\n",
    "    plt.yticks(tick_marks, classes)\n",
    "\n",
    "    if normalize:\n",
    "        cm = cm.astype('float') / cm.sum(axis=1)[:, np.newaxis]\n",
    "        print(\"Normalized confusion matrix\")\n",
    "    else:\n",
    "        print('Confusion matrix, without normalization')\n",
    "\n",
    "    print(cm)\n",
    "\n",
    "    thresh = cm.max() / 2.\n",
    "    for i, j in itertools.product(range(cm.shape[0]), range(cm.shape[1])):\n",
    "        plt.text(j, i, cm[i, j],\n",
    "                 horizontalalignment=\"center\",\n",
    "                 color=\"white\" if cm[i, j] > thresh else \"black\")\n",
    "\n",
    "    plt.tight_layout()\n",
    "    plt.ylabel('True label')\n",
    "    plt.xlabel('Predicted label')\n",
    "\n",
    "cm = confusion_matrix(Y_test, Y_predict)\n",
    "# Plot non-normalized confusion matrix\n",
    "plot_confusion_matrix(cm, classes=['Pass', 'Fail'],\n",
    "                      title='Confusion matrix')\n",
    "plt.show()\n",
    "# print(Y_test.shape, y_submission.shape)"
   ]
  },
  {
   "cell_type": "markdown",
   "metadata": {},
   "source": [
    "## High Level Stacking"
   ]
  },
  {
   "cell_type": "code",
   "execution_count": null,
   "metadata": {
    "collapsed": false,
    "scrolled": false
   },
   "outputs": [],
   "source": [
    "import numpy as np\n",
    "import matplotlib.pyplot as plt\n",
    "import matplotlib.gridspec as gridspec\n",
    "import itertools\n",
    "\n",
    "import sklearn\n",
    "\n",
    "from sklearn.linear_model import LogisticRegression\n",
    "from sklearn.svm import SVC\n",
    "from sklearn.ensemble import RandomForestClassifier\n",
    "\n",
    "from brew.base import Ensemble, EnsembleClassifier\n",
    "from brew.stacking.stacker import EnsembleStack, EnsembleStackClassifier\n",
    "from brew.combination.combiner import Combiner\n",
    "\n",
    "clf0 = LogisticRegression(**top_scores_logistic[0].parameters,penalty='l2'\n",
    "    ,random_state=0\n",
    "    ,fit_intercept=True\n",
    "    ,tol=.001)\n",
    "clf1 = LogisticRegression(**top_scores_logistic[1].parameters,penalty='l2'\n",
    "    ,random_state=0\n",
    "    ,fit_intercept=True\n",
    "    ,tol=.001)\n",
    "clf2 = AdaBoostClassifier(LogisticRegression(**top_scores_logistic[0].parameters,penalty='l2',random_state=0,fit_intercept=True,tol=.005), algorithm=\"SAMME\", n_estimators=200)\n",
    "clf3 = AdaBoostClassifier(LogisticRegression(**top_scores_logistic[1].parameters,penalty='l2',random_state=0,fit_intercept=True,tol=.005), algorithm=\"SAMME\", n_estimators=200)\n",
    "clf4 = RandomForestClassifier(**top_scores_rf[0].parameters, class_weight = 'balanced')\n",
    "clf5 = RandomForestClassifier(**top_scores_rf[1].parameters, class_weight = 'balanced')\n",
    "clf6 = AdaBoostClassifier(RandomForestClassifier(**top_scores_rf[0].parameters, class_weight = 'balanced'), algorithm=\"SAMME\", n_estimators=200)\n",
    "clf7 = AdaBoostClassifier(RandomForestClassifier(**top_scores_rf[1].parameters, class_weight = 'balanced'), algorithm=\"SAMME\", n_estimators=200)\n",
    "\n",
    "\n",
    "# Initializing Classifiers\n",
    "# clf1 = LogisticRegression(random_state=0)\n",
    "# clf2 = RandomForestClassifier(random_state=0)\n",
    "# clf3 = SVC(random_state=0, probability=True)\n",
    "\n",
    "# Creating Ensemble\n",
    "ensemble = Ensemble([clf0, clf2,clf4,clf6])\n",
    "eclf = EnsembleClassifier(ensemble=ensemble, combiner=Combiner('mean'))\n",
    "\n",
    "# Creating Stacking\n",
    "layer_1 = Ensemble([clf0, clf2,clf4,clf6])\n",
    "layer_2 = Ensemble([LogisticRegression()])\n",
    "\n",
    "stack = EnsembleStack(cv=10)\n",
    "\n",
    "stack.add_layer(layer_1)\n",
    "stack.add_layer(layer_2)\n",
    "\n",
    "sclf = EnsembleStackClassifier(stack)\n",
    "\n",
    "clf_list = [clf0, clf1, clf2, clf3, clf4, clf5, clf6, clf7, eclf, sclf]\n",
    "lbl_list = ['1','2','3','4','5','6','7','8', 'Ensemble', 'Stacking']\n",
    "\n",
    "for clf, lab in zip(clf_list, lbl_list):\n",
    "    clf.fit(X, Y)\n",
    "    y_stack_train = clf.predict_proba(X)[:,1]\n",
    "    y_stack_test = clf.predict_proba(X_test)[:,1]\n",
    "    \n",
    "    roc_auc_score = []\n",
    "    fpr, tpr, thresholds = roc_curve(Y_test, y_stack_test)\n",
    "    # fpr, tpr, thresholds = roc_curve(Y_test, Y_proba[:,1])\n",
    "    roc_auc = auc(fpr, tpr)\n",
    "    roc_auc_score.append(roc_auc)\n",
    "    print(lab)\n",
    "    print('Area is %0.2f' %roc_auc)\n",
    "    plt.plot(fpr, tpr, lw=2, color='red')\n",
    "    plt.show() \n",
    "\n",
    "    threshold = Find_Optimal_Cutoff(Y, y_stack_train)\n",
    "#     threshold = .5\n",
    "\n",
    "    Y_predict = list(map(lambda x: 1 if x > threshold else 0, y_stack_test))\n",
    "\n",
    "    labels = ['pass', 'fail']\n",
    "\n",
    "    cm = confusion_matrix(Y_test, Y_predict)\n",
    "    # Plot non-normalized confusion matrix\n",
    "    plot_confusion_matrix(cm, classes=['Pass', 'Fail'],\n",
    "                          title='Confusion matrix')\n",
    "    plt.show()\n",
    "    # print(Y_test.shape, y_submission.shape)\n",
    "    from sklearn.metrics import accuracy_score, precision_score, f1_score, recall_score\n",
    "    print('Accuracy Score %0.4f' %accuracy_score(Y_test,Y_predict))\n",
    "    from imblearn.metrics import sensitivity_specificity_support\n",
    "    print('Specificity Score %0.4f'%(sensitivity_specificity_support(Y_test, Y_predict, average = 'macro')[1]))\n",
    "    print('Precision Score %0.4f' %precision_score(Y_test, Y_predict))\n",
    "    print('F1 Score %0.4f' %f1_score(Y_test, Y_predict))\n",
    "    print('Sensitivity Score %0.4f' %recall_score(Y_test, Y_predict))\n",
    "    "
   ]
  },
  {
   "cell_type": "code",
   "execution_count": 145,
   "metadata": {
    "collapsed": false
   },
   "outputs": [
    {
     "data": {
      "text/plain": [
       "0.70454545454545459"
      ]
     },
     "execution_count": 145,
     "metadata": {},
     "output_type": "execute_result"
    }
   ],
   "source": [
    "sensitivity_specificity_support(Y_test, Y_predict, average = 'micro')[1]"
   ]
  }
 ],
 "metadata": {
  "anaconda-cloud": {},
  "kernelspec": {
   "display_name": "Python [default]",
   "language": "python",
   "name": "python3"
  },
  "language_info": {
   "codemirror_mode": {
    "name": "ipython",
    "version": 3
   },
   "file_extension": ".py",
   "mimetype": "text/x-python",
   "name": "python",
   "nbconvert_exporter": "python",
   "pygments_lexer": "ipython3",
   "version": "3.5.2"
  }
 },
 "nbformat": 4,
 "nbformat_minor": 1
}
