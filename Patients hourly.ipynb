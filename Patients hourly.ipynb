{
 "cells": [
  {
   "cell_type": "code",
   "execution_count": 8,
   "metadata": {
    "collapsed": false
   },
   "outputs": [
    {
     "name": "stderr",
     "output_type": "stream",
     "text": [
      "C:\\Users\\hulabapp\\AppData\\Local\\Continuum\\Anaconda3\\lib\\site-packages\\sklearn\\cross_validation.py:44: DeprecationWarning: This module was deprecated in version 0.18 in favor of the model_selection module into which all the refactored classes and functions are moved. Also note that the interface of the new CV iterators are different from that of this module. This module will be removed in 0.20.\n",
      "  \"This module will be removed in 0.20.\", DeprecationWarning)\n"
     ]
    }
   ],
   "source": [
    "import numpy as np\n",
    "from sklearn.cross_validation import StratifiedKFold\n",
    "from sklearn.linear_model import LogisticRegression\n",
    "from sklearn.linear_model import LogisticRegressionCV\n",
    "import scipy.io as sio\n",
    "import matplotlib.pyplot as plt\n",
    "from time import time\n",
    "from operator import itemgetter\n",
    "\n",
    "from sklearn.model_selection import LeaveOneOut\n",
    "from sklearn.model_selection import cross_val_score\n",
    "from sklearn.model_selection import GridSearchCV\n",
    "from sklearn.model_selection import RandomizedSearchCV\n",
    "import pandas as pd\n",
    "\n",
    "from sklearn.ensemble import RandomForestClassifier\n",
    "\n",
    "from sklearn import (preprocessing, metrics, cross_validation)\n",
    "\n",
    "from sklearn.externals import joblib"
   ]
  },
  {
   "cell_type": "code",
   "execution_count": 9,
   "metadata": {
    "collapsed": false
   },
   "outputs": [],
   "source": [
    "total = []\n",
    "patient_pass = []\n",
    "patient_fail = []\n",
    "t = range(1,25)\n",
    "\n",
    "for count in range(1, 25):\n",
    "    datapath = 'H:/MatlabProjects/Nate/Dropbox/Rotation 3 Project/Data/FullData/featurematrixandtarget_%0.2dh' % count\n",
    "    datacontent = sio.loadmat(datapath)\n",
    "    Yv = datacontent['y']\n",
    "    Y = np.ravel(Yv)\n",
    "    tot = np.size(Y)\n",
    "    pas = np.size(Y[Y==0])\n",
    "    fai = np.size(Y[Y==1])\n",
    "    total.append(tot)\n",
    "    patient_pass.append(pas)\n",
    "    patient_fail.append(fai)\n"
   ]
  },
  {
   "cell_type": "code",
   "execution_count": 32,
   "metadata": {
    "collapsed": false
   },
   "outputs": [
    {
     "data": {
      "image/png": "[encoded data removed]",
      "text/plain": [
       "<matplotlib.figure.Figure at 0x39449577f0>"
      ]
     },
     "metadata": {},
     "output_type": "display_data"
    }
   ],
   "source": [
    "import numpy as np\n",
    "import matplotlib.pyplot as plt\n",
    "import seaborn as sns\n",
    "\n",
    "# x = pd.DataFrame(total, patient_pass, patient_fail, t)\n",
    "# red dashes for total, blue squares for pass and green triangles for fail\n",
    "plt.plot(t,total,'r--', label = 'Total Patients')\n",
    "plt.plot(t, patient_pass, 'bs', label = 'Patient Pass')\n",
    "plt.plot(t, patient_fail, 'bs', label = 'Patient Fail')\n",
    "legend = plt.legend(loc='upper right', shadow=True)\n",
    "plt.xlabel('Hours')\n",
    "plt.ylabel('Patient')\n",
    "plt.title('Number of remaining patients in each hour')\n",
    "\n",
    "# plt.plot(t, total, 'r--', label = 'total_patient', t, patient_pass, 'bs', label = 'patient_pass', t, patient_fail, 'g^', label = 'patient_fail')\n",
    "plt.show()\n",
    "\n",
    "\n"
   ]
  },
  {
   "cell_type": "code",
   "execution_count": 7,
   "metadata": {
    "collapsed": false
   },
   "outputs": [
    {
     "name": "stdout",
     "output_type": "stream",
     "text": [
      "[72, 72, 72, 72, 71, 71, 71, 69, 68, 66, 66, 63, 62, 60, 60, 58, 55, 54, 54, 50, 48, 47, 44, 38]\n",
      "[36, 36, 36, 34, 31, 30, 30, 29, 29, 29, 28, 27, 27, 27, 26, 26, 25, 24, 24, 23, 23, 22, 20, 17]\n",
      "[108, 108, 108, 106, 102, 101, 101, 98, 97, 95, 94, 90, 89, 87, 86, 84, 80, 78, 78, 73, 71, 69, 64, 55]\n"
     ]
    }
   ],
   "source": [
    "print(patient_pass)\n",
    "print(patient_fail)\n",
    "print(total)"
   ]
  },
  {
   "cell_type": "code",
   "execution_count": 21,
   "metadata": {
    "collapsed": false
   },
   "outputs": [
    {
     "data": {
      "text/plain": [
       "<matplotlib.axes._subplots.AxesSubplot at 0x3946fe6cf8>"
      ]
     },
     "execution_count": 21,
     "metadata": {},
     "output_type": "execute_result"
    },
    {
     "data": {
      "image/png": "[encoded data removed]",
      "text/plain": [
       "<matplotlib.figure.Figure at 0x39471855f8>"
      ]
     },
     "metadata": {},
     "output_type": "display_data"
    }
   ],
   "source": [
    "import seaborn as sns\n",
    "import matplotlib.pyplot as plt\n",
    "%matplotlib inline\n",
    "\n",
    "\n",
    "new = np.column_stack((total, patient_pass, patient_fail,t))\n",
    "new_df = pd.DataFrame(new, columns=['total', 'patient_pass', 'patient_fail', 't'])\n",
    "sns.tsplot([new_df.total,new_df.patient_pass, new_df.patient_fail], time=new_df.t)\n"
   ]
  }
 ],
 "metadata": {
  "anaconda-cloud": {},
  "kernelspec": {
   "display_name": "Python [conda root]",
   "language": "python",
   "name": "conda-root-py"
  },
  "language_info": {
   "codemirror_mode": {
    "name": "ipython",
    "version": 3
   },
   "file_extension": ".py",
   "mimetype": "text/x-python",
   "name": "python",
   "nbconvert_exporter": "python",
   "pygments_lexer": "ipython3",
   "version": "3.5.2"
  }
 },
 "nbformat": 4,
 "nbformat_minor": 1
}
