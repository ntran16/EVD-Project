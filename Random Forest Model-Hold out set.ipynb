{
 "cells": [
  {
   "cell_type": "markdown",
   "metadata": {},
   "source": [
    "## Random Forest"
   ]
  },
  {
   "cell_type": "code",
   "execution_count": 2,
   "metadata": {
    "collapsed": false
   },
   "outputs": [
    {
     "name": "stderr",
     "output_type": "stream",
     "text": [
      "C:\\Users\\hulabapp\\AppData\\Local\\Continuum\\Anaconda3\\lib\\site-packages\\sklearn\\cross_validation.py:44: DeprecationWarning: This module was deprecated in version 0.18 in favor of the model_selection module into which all the refactored classes and functions are moved. Also note that the interface of the new CV iterators are different from that of this module. This module will be removed in 0.20.\n",
      "  \"This module will be removed in 0.20.\", DeprecationWarning)\n"
     ]
    }
   ],
   "source": [
    "import numpy as np\n",
    "import pandas as pd\n",
    "from sklearn.cross_validation import StratifiedKFold\n",
    "from sklearn.linear_model import LogisticRegression\n",
    "from sklearn.linear_model import LogisticRegressionCV\n",
    "import scipy.io as sio\n",
    "import numpy as np\n",
    "import matplotlib.pyplot as plt\n",
    "from time import time\n",
    "from operator import itemgetter\n",
    "import time\n",
    "from scipy import stats\n",
    "from sklearn.metrics import confusion_matrix\n",
    "\n",
    "from sklearn.model_selection import LeaveOneOut\n",
    "from sklearn.model_selection import cross_val_score\n",
    "from sklearn.model_selection import GridSearchCV\n",
    "from sklearn.model_selection import RandomizedSearchCV\n",
    "from sklearn.model_selection import StratifiedShuffleSplit\n",
    "from sklearn.metrics import roc_curve, auc\n",
    "\n",
    "from sklearn.ensemble import RandomForestClassifier\n",
    "\n",
    "from sklearn import (preprocessing, metrics, cross_validation)\n",
    "\n",
    "from sklearn.externals import joblib\n"
   ]
  },
  {
   "cell_type": "code",
   "execution_count": 3,
   "metadata": {
    "collapsed": false
   },
   "outputs": [],
   "source": [
    "# Visualizing data\n",
    "datapath = 'D:/Dropbox (Nate)/Rotation 3 Project/Data/FeatData/featurematrixandtarget_10h'\n",
    "# datapath= '/Users/ignacioperez-pozuelo/Dropbox/Rotation 3 Project/Data/FeatData/featurematrixandtarget_20h'\n",
    "datacontent = sio.loadmat(datapath)\n",
    "\n",
    "X = datacontent['featm']\n",
    "X = np.nan_to_num(X) # replace nan with 0\n",
    "nsubjects = X.shape[0]\n",
    "\n",
    "Yv = datacontent['y']\n",
    "Y = np.ravel(Yv)"
   ]
  },
  {
   "cell_type": "code",
   "execution_count": 3,
   "metadata": {
    "collapsed": false
   },
   "outputs": [],
   "source": [
    "#upsample class 1\n",
    "\n",
    "def upsample(data, labels):\n",
    "    \"\"\"\n",
    "    Using upsampling to balance the classes. Note that every data point is included at least once\n",
    "    and additional data points are added by sampling with replacement.\n",
    "    \"\"\"\n",
    "    from collections import defaultdict\n",
    "    import random\n",
    "\n",
    "    label_indices = defaultdict(lambda: list())\n",
    "    for idx, label in enumerate(labels):\n",
    "        label_indices[label].append(idx)\n",
    "\n",
    "    largest_class_size = max(map(lambda l: len(l), label_indices.values()))\n",
    "\n",
    "    upsampled_indices = []\n",
    "    for label, indices in label_indices.items():\n",
    "        sampled_indices = indices[:]\n",
    "        while len(sampled_indices) < largest_class_size:\n",
    "            sampled_indices.append(random.choice(indices))\n",
    "        upsampled_indices.extend(sampled_indices)\n",
    "\n",
    "    upsampled_labels = labels[upsampled_indices]\n",
    "    upsampled_data = data[upsampled_indices, :]\n",
    "\n",
    "    return upsampled_data, upsampled_labels\n",
    "\n",
    "def Find_Optimal_Cutoff(target, predicted):\n",
    "    \"\"\" Find the optimal probability cutoff point for a classification model related to event rate\n",
    "    Input:\n",
    "    target values \n",
    "    predicted values\n",
    "    \n",
    "    Returns\n",
    "    optimal cutoff value\n",
    "    \"\"\"\n",
    "    fpr, tpr, threshold = roc_curve(target, predicted)\n",
    "    i = np.arange(len(tpr)) \n",
    "    roc = pd.DataFrame({'tf' : pd.Series(tpr-(1-fpr), index=i), 'threshold' : pd.Series(threshold, index=i)})\n",
    "    roc_t = roc.ix[(roc.tf-0).abs().argsort()[:1]]\n",
    "\n",
    "    return list(roc_t['threshold']) \n"
   ]
  },
  {
   "cell_type": "code",
   "execution_count": 39,
   "metadata": {
    "collapsed": false
   },
   "outputs": [
    {
     "name": "stdout",
     "output_type": "stream",
     "text": [
      "(61,)\n",
      "(41,)\n",
      "(84,)\n",
      "(58,)\n",
      "0.6975 0.188710904708\n",
      "{'n_estimators': 100, 'min_samples_split': 9, 'min_samples_leaf': 9, 'max_features': 2, 'max_depth': 5, 'criterion': 'gini', 'bootstrap': False}\n",
      "615.8619680404663\n"
     ]
    }
   ],
   "source": [
    "# divide into test set and training set\n",
    "\n",
    "start = time.time()\n",
    "\n",
    "datapath = 'H:/MatlabProjects/Nate/Dropbox/Rotation 3 Project/Data/FullData/featurematrixandtarget_05h'\n",
    "datacontent = sio.loadmat(datapath)\n",
    "\n",
    "X_tot = datacontent['featm']\n",
    "X_tot = np.nan_to_num(X_tot) # replace nan with 0\n",
    "nsubjects = X_tot.shape[0]\n",
    "X_tot = stats.zscore(X_tot)\n",
    "# scaler = preprocessing.MinMaxScaler().fit(X_tot)\n",
    "# X_tot = scaler.transform(X_tot)\n",
    "\n",
    "Yv = datacontent['y']\n",
    "Y_tot = np.ravel(Yv)\n",
    "\n",
    "# datapath = 'D:/Dropbox (Nate)/Rotation 3 Project/Data/FeatData_Agg/feature_10h.csv'\n",
    "# datapath_y = 'D:/Dropbox (Nate)/Rotation 3 Project/Data/FeatData_Agg/target_10h.csv'\n",
    "# # datapath= '/Users/ignacioperez-pozuelo/Dropbox/Rotation 3 Project/Data/FeatData/featurematrixandtarget_20h'\n",
    "# X = pd.read_csv(datapath)\n",
    "# X = np.nan_to_num(X) # replace nan with 0\n",
    "\n",
    "# Y = pd.read_csv(datapath_y)\n",
    "\n",
    "sss = StratifiedShuffleSplit(n_splits=1, test_size=0.4, random_state=None)\n",
    "for train_index, test_index in sss.split(X_tot, Y_tot):\n",
    "    X, X_test = X_tot[train_index], X_tot[test_index]\n",
    "    Y, Y_test = Y_tot[train_index], Y_tot[test_index]\n",
    "\n",
    "print(Y.shape)\n",
    "print(Y_test.shape)\n",
    "    \n",
    "X,Y = upsample(X,Y)\n",
    "X_test, Y_test = upsample(X_test, Y_test)\n",
    "\n",
    "print(Y.shape)\n",
    "print(Y_test.shape)\n",
    "    \n",
    "loo = LeaveOneOut()\n",
    "fold = StratifiedKFold(Y, n_folds=10, shuffle=True, random_state=0)\n",
    "SP = StratifiedShuffleSplit(n_splits=50, test_size=.1, random_state=0)\n",
    "\n",
    "rs = {\"n_estimators\": [10, 50, 100, 300, 500],\n",
    "              \"max_depth\": range(2,10),\n",
    "              \"max_features\": [1, 2, 3, 4, 5, 6],\n",
    "              \"min_samples_split\": range(2,10),\n",
    "              \"min_samples_leaf\": range(2,10),\n",
    "              \"bootstrap\": [True, False],\n",
    "              \"criterion\": [\"gini\", \"entropy\"]} \n",
    "\n",
    "#     score = None\n",
    "# Using LogisticRegressionCV (cross validation search for Logistic regression) and report ROC_AUC score\n",
    "clf = RandomForestClassifier(class_weight = 'balanced')\n",
    "searchCV = RandomizedSearchCV(clf, rs, n_iter=1000, scoring='roc_auc', cv=SP, n_jobs=-1)\n",
    "\n",
    "searchCV.fit(X_tot, Y_tot)\n",
    "\n",
    "cvs_score = searchCV.cv_results_['mean_test_score'][searchCV.best_index_]\n",
    "cvs_std = searchCV.cv_results_['std_test_score'][searchCV.best_index_]\n",
    "param = searchCV.cv_results_['params'][searchCV.best_index_]\n",
    "\n",
    "print(cvs_score,cvs_std)\n",
    "print(param)\n",
    "\n",
    "end = time.time()\n",
    "print (end - start)"
   ]
  },
  {
   "cell_type": "code",
   "execution_count": 40,
   "metadata": {
    "collapsed": false
   },
   "outputs": [
    {
     "name": "stdout",
     "output_type": "stream",
     "text": [
      "Model with rank: 1\n",
      "Mean validation score: 0.698 (std: 0.189)\n",
      "Parameters: {'n_estimators': 100, 'min_samples_split': 9, 'min_samples_leaf': 9, 'max_features': 2, 'max_depth': 5, 'criterion': 'gini', 'bootstrap': False}\n",
      "\n",
      "Model with rank: 2\n",
      "Mean validation score: 0.697 (std: 0.207)\n",
      "Parameters: {'n_estimators': 50, 'min_samples_split': 3, 'min_samples_leaf': 3, 'max_features': 1, 'max_depth': 8, 'criterion': 'gini', 'bootstrap': False}\n",
      "\n",
      "Model with rank: 3\n",
      "Mean validation score: 0.697 (std: 0.201)\n",
      "Parameters: {'n_estimators': 10, 'min_samples_split': 8, 'min_samples_leaf': 8, 'max_features': 1, 'max_depth': 4, 'criterion': 'entropy', 'bootstrap': False}\n",
      "\n",
      "Model with rank: 4\n",
      "Mean validation score: 0.697 (std: 0.211)\n",
      "Parameters: {'n_estimators': 50, 'min_samples_split': 2, 'min_samples_leaf': 6, 'max_features': 2, 'max_depth': 8, 'criterion': 'gini', 'bootstrap': False}\n",
      "\n",
      "Model with rank: 5\n",
      "Mean validation score: 0.696 (std: 0.224)\n",
      "Parameters: {'n_estimators': 500, 'min_samples_split': 6, 'min_samples_leaf': 2, 'max_features': 1, 'max_depth': 4, 'criterion': 'entropy', 'bootstrap': True}\n",
      "\n"
     ]
    },
    {
     "name": "stderr",
     "output_type": "stream",
     "text": [
      "C:\\Users\\hulabapp\\AppData\\Local\\Continuum\\Anaconda3\\lib\\site-packages\\sklearn\\model_selection\\_search.py:667: DeprecationWarning: The grid_scores_ attribute was deprecated in version 0.18 in favor of the more elaborate cv_results_ attribute. The grid_scores_ attribute will not be available from 0.20\n",
      "  DeprecationWarning)\n"
     ]
    }
   ],
   "source": [
    "grid_scores = searchCV.grid_scores_\n",
    "top_scores = sorted(grid_scores,\n",
    "                    key=itemgetter(1),\n",
    "                    reverse=True)[:5]\n",
    "for i, score in enumerate(top_scores):\n",
    "    print(\"Model with rank: {0}\".format(i + 1))\n",
    "    print((\"Mean validation score: \"\n",
    "           \"{0:.3f} (std: {1:.3f})\").format(\n",
    "           score.mean_validation_score,\n",
    "           np.std(score.cv_validation_scores)))\n",
    "    print(\"Parameters: {0}\".format(score.parameters))\n",
    "    print(\"\")\n",
    "\n",
    "# clfs = [RandomForestClassifier(**{'n_estimators'= 500, 'min_samples_split': 6, 'min_samples_leaf': 9, 'max_features': 2, 'max_depth': 6, 'criterion': 'gini', 'bootstrap': False}),\n",
    "#         RandomForestClassifier(**{'n_estimators': 300, 'min_samples_split': 3, 'min_samples_leaf': 3, 'max_features': 1, 'max_depth': 5, 'criterion': 'gini', 'bootstrap': False}),\n",
    "#         RandomForestClassifier(**{'n_estimators': 300, 'min_samples_split': 7, 'min_samples_leaf': 8, 'max_features': 2, 'max_depth': 9, 'criterion': 'gini', 'bootstrap': False}),\n",
    "#         RandomForestClassifier(**{'n_estimators': 50, 'min_samples_split': 9, 'min_samples_leaf': 7, 'max_features': 3, 'max_depth': 4, 'criterion': 'entropy', 'bootstrap': True}),\n",
    "#         RandomForestClassifier(**{'n_estimators': 50, 'min_samples_split': 2, 'min_samples_leaf': 9, 'max_features': 2, 'max_depth': 4, 'criterion': 'gini', 'bootstrap': False})]\n"
   ]
  },
  {
   "cell_type": "code",
   "execution_count": 20,
   "metadata": {
    "collapsed": false
   },
   "outputs": [
    {
     "name": "stdout",
     "output_type": "stream",
     "text": [
      "Area is 0.92\n"
     ]
    },
    {
     "data": {
      "image/png": "[encoded data removed]",
      "text/plain": [
       "<matplotlib.figure.Figure at 0x8d59a34cf8>"
      ]
     },
     "metadata": {},
     "output_type": "display_data"
    },
    {
     "name": "stdout",
     "output_type": "stream",
     "text": [
      "[0.545346810744476]\n",
      "[[36  6]\n",
      " [ 4 15]]\n"
     ]
    }
   ],
   "source": [
    "clf_sub = RandomForestClassifier(**param, class_weight = 'balanced', n_jobs=-1)\n",
    "\n",
    "Y_proba = clf_sub.fit(X,Y).predict_proba(X)\n",
    "Y_pred = clf_sub.fit(X,Y).predict(X)\n",
    "# Y_df = clf_sub.fit(X,Y).decision_function(X)\n",
    "\n",
    "roc_auc_score = []\n",
    "# fpr, tpr, thresholds = roc_curve(Y, Y_df)\n",
    "fpr, tpr, thresholds = roc_curve(Y, Y_proba[:,1])\n",
    "roc_auc = auc(fpr, tpr)\n",
    "roc_auc_score.append(roc_auc)\n",
    "print('Area is %0.2f' %roc_auc)\n",
    "plt.plot(fpr, tpr, lw=2, color='red')\n",
    "plt.show() \n",
    "\n",
    "threshold = Find_Optimal_Cutoff(Y, Y_proba[:,1])\n",
    "# threshold = .525\n",
    "Y_predict = list(map(lambda x: 1 if x > threshold else 0, Y_proba[:,1]))\n",
    "print (threshold)\n",
    "\n",
    "print(confusion_matrix(Y, Y_predict))\n",
    "\n",
    "\n"
   ]
  },
  {
   "cell_type": "code",
   "execution_count": 6,
   "metadata": {
    "collapsed": false
   },
   "outputs": [
    {
     "data": {
      "text/plain": [
       "array([[ 0.40701862,  0.59298138],\n",
       "       [ 0.57187358,  0.42812642],\n",
       "       [ 0.77089742,  0.22910258],\n",
       "       [ 0.83129327,  0.16870673],\n",
       "       [ 0.93891746,  0.06108254],\n",
       "       [ 0.67190218,  0.32809782],\n",
       "       [ 0.73179968,  0.26820032],\n",
       "       [ 0.7470951 ,  0.2529049 ],\n",
       "       [ 0.86171835,  0.13828165],\n",
       "       [ 0.85991112,  0.14008888],\n",
       "       [ 0.44525575,  0.55474425],\n",
       "       [ 0.90467206,  0.09532794],\n",
       "       [ 0.87276923,  0.12723077],\n",
       "       [ 0.8150429 ,  0.1849571 ],\n",
       "       [ 0.71891843,  0.28108157],\n",
       "       [ 0.7242694 ,  0.2757306 ],\n",
       "       [ 0.73940633,  0.26059367],\n",
       "       [ 0.67138426,  0.32861574],\n",
       "       [ 0.52135807,  0.47864193],\n",
       "       [ 0.87541573,  0.12458427],\n",
       "       [ 0.5299508 ,  0.4700492 ],\n",
       "       [ 0.4587098 ,  0.5412902 ],\n",
       "       [ 0.67859012,  0.32140988],\n",
       "       [ 0.25188114,  0.74811886],\n",
       "       [ 0.55425253,  0.44574747],\n",
       "       [ 0.71280811,  0.28719189],\n",
       "       [ 0.83585285,  0.16414715],\n",
       "       [ 0.77065092,  0.22934908],\n",
       "       [ 0.53328125,  0.46671875],\n",
       "       [ 0.79369428,  0.20630572],\n",
       "       [ 0.7697572 ,  0.2302428 ],\n",
       "       [ 0.95234053,  0.04765947],\n",
       "       [ 0.5627141 ,  0.4372859 ],\n",
       "       [ 0.81904753,  0.18095247],\n",
       "       [ 0.80812379,  0.19187621],\n",
       "       [ 0.42473761,  0.57526239],\n",
       "       [ 0.80700813,  0.19299187],\n",
       "       [ 0.78889185,  0.21110815],\n",
       "       [ 0.71933548,  0.28066452],\n",
       "       [ 0.72923787,  0.27076213],\n",
       "       [ 0.81387297,  0.18612703],\n",
       "       [ 0.89551274,  0.10448726],\n",
       "       [ 0.43327728,  0.56672272],\n",
       "       [ 0.24563287,  0.75436713],\n",
       "       [ 0.22470716,  0.77529284],\n",
       "       [ 0.25626331,  0.74373669],\n",
       "       [ 0.35112094,  0.64887906],\n",
       "       [ 0.1122598 ,  0.8877402 ],\n",
       "       [ 0.49731284,  0.50268716],\n",
       "       [ 0.16890613,  0.83109387],\n",
       "       [ 0.20784479,  0.79215521],\n",
       "       [ 0.68023488,  0.31976512],\n",
       "       [ 0.11266384,  0.88733616],\n",
       "       [ 0.25214172,  0.74785828],\n",
       "       [ 0.30140071,  0.69859929],\n",
       "       [ 0.0916476 ,  0.9083524 ],\n",
       "       [ 0.48389467,  0.51610533],\n",
       "       [ 0.26712098,  0.73287902],\n",
       "       [ 0.13567265,  0.86432735],\n",
       "       [ 0.15530249,  0.84469751],\n",
       "       [ 0.24658259,  0.75341741],\n",
       "       [ 0.43327728,  0.56672272],\n",
       "       [ 0.48389467,  0.51610533],\n",
       "       [ 0.48389467,  0.51610533],\n",
       "       [ 0.49731284,  0.50268716],\n",
       "       [ 0.13567265,  0.86432735],\n",
       "       [ 0.22470716,  0.77529284],\n",
       "       [ 0.24658259,  0.75341741],\n",
       "       [ 0.26712098,  0.73287902],\n",
       "       [ 0.35112094,  0.64887906],\n",
       "       [ 0.43327728,  0.56672272],\n",
       "       [ 0.20784479,  0.79215521],\n",
       "       [ 0.15530249,  0.84469751],\n",
       "       [ 0.49731284,  0.50268716],\n",
       "       [ 0.24658259,  0.75341741],\n",
       "       [ 0.24658259,  0.75341741],\n",
       "       [ 0.48389467,  0.51610533],\n",
       "       [ 0.24563287,  0.75436713],\n",
       "       [ 0.26712098,  0.73287902],\n",
       "       [ 0.25626331,  0.74373669],\n",
       "       [ 0.24563287,  0.75436713],\n",
       "       [ 0.15530249,  0.84469751],\n",
       "       [ 0.11266384,  0.88733616],\n",
       "       [ 0.20784479,  0.79215521]])"
      ]
     },
     "execution_count": 6,
     "metadata": {},
     "output_type": "execute_result"
    }
   ],
   "source": [
    "Y_proba"
   ]
  },
  {
   "cell_type": "code",
   "execution_count": 21,
   "metadata": {
    "collapsed": false
   },
   "outputs": [
    {
     "data": {
      "image/png": "[encoded data removed]",
      "text/plain": [
       "<matplotlib.figure.Figure at 0x8d597eacc0>"
      ]
     },
     "metadata": {},
     "output_type": "display_data"
    }
   ],
   "source": [
    "bins = np.linspace(min(Y_proba[:,1]), max(Y_proba[:,1]), 100)\n",
    "\n",
    "plt.hist(Y_proba[:,1][Y==0], bins, alpha=0.5, label='Pass')\n",
    "plt.hist(Y_proba[:,1][Y==1], bins, alpha=0.5, label='Fail')\n",
    "plt.legend(loc='upper right')\n",
    "plt.show()\n",
    "\n"
   ]
  },
  {
   "cell_type": "code",
   "execution_count": 22,
   "metadata": {
    "collapsed": false
   },
   "outputs": [
    {
     "name": "stdout",
     "output_type": "stream",
     "text": [
      "Area is 0.67\n"
     ]
    },
    {
     "data": {
      "image/png": "[encoded data removed]",
      "text/plain": [
       "<matplotlib.figure.Figure at 0x8d56d3e2e8>"
      ]
     },
     "metadata": {},
     "output_type": "display_data"
    },
    {
     "name": "stdout",
     "output_type": "stream",
     "text": [
      "[[21  8]\n",
      " [ 5  7]]\n"
     ]
    }
   ],
   "source": [
    "Y_proba = clf_sub.fit(X,Y).predict_proba(X_test)\n",
    "Y_pred = clf_sub.fit(X,Y).predict(X_test)\n",
    "# Y_df = clf_sub.fit(X,Y).decision_function(X_test)\n",
    "\n",
    "# threshold = \n",
    "\n",
    "Y_predict = list(map(lambda x: 1 if x > threshold else 0, Y_proba[:,1]))\n",
    "\n",
    "# Print confusion Matrix\n",
    "from sklearn.metrics import confusion_matrix\n",
    "confusion_matrix(Y_test, Y_predict)\n",
    "\n",
    "roc_auc_score = []\n",
    "# fpr, tpr, thresholds = roc_curve(Y_test, Y_df)\n",
    "fpr, tpr, thresholds = roc_curve(Y_test, Y_proba[:,1])\n",
    "roc_auc = auc(fpr, tpr)\n",
    "roc_auc_score.append(roc_auc)\n",
    "print('Area is %0.2f' %roc_auc)\n",
    "plt.plot(fpr, tpr, lw=2, color='red')\n",
    "plt.show() \n",
    "\n",
    "print(confusion_matrix(Y_test, Y_predict))"
   ]
  },
  {
   "cell_type": "code",
   "execution_count": 23,
   "metadata": {
    "collapsed": false
   },
   "outputs": [
    {
     "data": {
      "image/png": "[encoded data removed]",
      "text/plain": [
       "<matplotlib.figure.Figure at 0x8d591fd630>"
      ]
     },
     "metadata": {},
     "output_type": "display_data"
    }
   ],
   "source": [
    "bins = np.linspace(min(Y_proba[:,1]), max(Y_proba[:,1]), 100)\n",
    "\n",
    "plt.hist(Y_proba[:,1][Y_test==0], bins, alpha=0.5, label='Pass')\n",
    "plt.hist(Y_proba[:,1][Y_test==1], bins, alpha=0.5, label='Fail')\n",
    "plt.legend(loc='upper right')\n",
    "plt.show()\n",
    "\n"
   ]
  },
  {
   "cell_type": "code",
   "execution_count": 296,
   "metadata": {
    "collapsed": false
   },
   "outputs": [],
   "source": [
    "# Import Data and Using Stratified K fold for the data\n",
    "\n",
    "def get_score(datapath, score_type):\n",
    "    start = time.time()\n",
    "\n",
    "#     datapath = 'D:/Dropbox (Nate)/Rotation 3 Project/Data/FeatData/featurematrixandtarget_1h'\n",
    "    #     datapath='/Users/ignacioperez-pozuelo/Dropbox/Rotation 3 Project/Data/FeatData/featurematrixandtarget_24h'\n",
    "    datacontent = sio.loadmat(datapath)\n",
    "\n",
    "    X_tot = datacontent['featm']\n",
    "    X_tot = np.nan_to_num(X_tot) # replace nan with 0\n",
    "    nsubjects = X_tot.shape[0]\n",
    "\n",
    "    Yv = datacontent['y']\n",
    "    Y_tot = np.ravel(Yv)\n",
    "    \n",
    "    sss = StratifiedShuffleSplit(Y_tot, n_iter=1, test_size=0.5, random_state=0)\n",
    "    len(sss)\n",
    "    for train_index, test_index in sss:\n",
    "        X, X_test = X_tot[train_index], X_tot[test_index]\n",
    "        Y, Y_test = y_tot[train_index], y_tot[test_index]\n",
    "\n",
    "    loo = LeaveOneOut()\n",
    "    fold = StratifiedKFold(Y, n_folds=5, shuffle=True, random_state=0)\n",
    "    SP = StratifiedShuffleSplit(n_splits=20, test_size=(7/len(Y[Y==1])), random_state=0)\n",
    "\n",
    "    grid = {'C': np.power(10.0, np.arange(-15, 10)), 'solver':['newton-cg'],'class_weight':['balanced', None], 'max_iter':[10000,100000]}\n",
    "#     score = None\n",
    "    # Using LogisticRegressionCV (cross validation search for Logistic regression) and report ROC_AUC score\n",
    "    clf = LogisticRegression(penalty='l2'\n",
    "        ,random_state=0\n",
    "        ,fit_intercept=True\n",
    "        ,tol=.001)\n",
    "    searchCV = GridSearchCV(clf, grid, scoring=score_type, cv=SP)\n",
    "\n",
    "    searchCV.fit(X, Y)\n",
    "\n",
    "    cvs_score = searchCV.cv_results_['mean_test_score'][searchCV.best_index_]\n",
    "    cvs_std = searchCV.cv_results_['std_test_score'][searchCV.best_index_]\n",
    "    param = searchCV.cv_results_['params'][searchCV.best_index_]\n",
    "    \n",
    "    end = time.time()\n",
    "    print (end - start)\n",
    "\n",
    "    return cvs_score, cvs_std, param, X, Y\n",
    "\n",
    "\n",
    "#     print ('Max auc_roc:', searchCV.scores_[1].mean(axis=0).max())\n",
    "#     print ('Std auc_roc:', searchCV.scores_[1].std(axis=0).max())\n",
    "\n"
   ]
  },
  {
   "cell_type": "code",
   "execution_count": 58,
   "metadata": {
    "collapsed": false
   },
   "outputs": [
    {
     "data": {
      "text/plain": [
       "0.03499418315145493"
      ]
     },
     "execution_count": 58,
     "metadata": {},
     "output_type": "execute_result"
    }
   ],
   "source": [
    "cvs_std"
   ]
  },
  {
   "cell_type": "code",
   "execution_count": 342,
   "metadata": {
    "collapsed": true
   },
   "outputs": [],
   "source": [
    "# # Function: report top 3 scores\n",
    "# def report(grid_scores, n_top=3):\n",
    "\n",
    "#     top_scores = sorted(grid_scores,\n",
    "#                         key=itemgetter(1),\n",
    "#                         reverse=True)[:n_top]\n",
    "#     for i, score in enumerate(top_scores):\n",
    "#         print(\"Model with rank: {0}\".format(i + 1))\n",
    "#         print((\"Mean validation score: \"\n",
    "#                \"{0:.3f} (std: {1:.3f})\").format(\n",
    "#                score.mean_validation_score,\n",
    "#                np.std(score.cv_validation_scores)))\n",
    "#         print(\"Parameters: {0}\".format(score.parameters))\n",
    "#         print(\"\")\n",
    "\n",
    "#     return top_scores[0].parameters"
   ]
  },
  {
   "cell_type": "code",
   "execution_count": 295,
   "metadata": {
    "collapsed": false
   },
   "outputs": [
    {
     "data": {
      "text/plain": [
       "72"
      ]
     },
     "execution_count": 295,
     "metadata": {},
     "output_type": "execute_result"
    }
   ],
   "source": [
    "# # Import Data and Using Stratified K fold for the data\n",
    "# datapath = 'D:/Dropbox (Nate)/Rotation 3 Project/Data/FullData/featurematrixandtarget_01h'\n",
    "# datacontent = sio.loadmat(datapath)\n",
    "\n",
    "# X = datacontent['featm']\n",
    "# X = np.nan_to_num(X) # replace nan with 0\n",
    "# nsubjects = X.shape[0]\n",
    "\n",
    "# Yv = datacontent['y']\n",
    "# Y = np.ravel(Yv)\n",
    "\n",
    "# # scores = [None, 'roc_auc']\n",
    "# # fold = StratifiedKFold(Y, n_folds=10, shuffle=True, random_state=10)\n",
    "\n",
    "# # # Using LogisticRegressionCV (cross validation search for Logistic regression) and report ROC_AUC score\n",
    "# # rs = {'C': np.power(10.0, np.arange(-15, 10))}\n",
    "# # clf = LogisticRegression(random_state=0, max_iter=10000, tol=10, solver='newton-cg', penalty='l2')\n",
    "# # for score in scores:\n",
    "# #     gs = GridSearchCV(clf, grid, scoring=score, cv=fold)\n",
    "# #     gs.fit(X, Y)\n",
    "# #     top_params = report(gs.grid_scores_, 1)\n",
    "# # return score.mean_validation_score, np.std(score.cv_validation_scores)\n",
    "# # return auc_score, auc_std\n",
    "# #     print ('Max auc_roc:', searchCV.scores_[1].mean(axis=0).max())\n",
    "# #     print ('Std auc_roc:', searchCV.scores_[1].std(axis=0).max())\n"
   ]
  },
  {
   "cell_type": "code",
   "execution_count": 297,
   "metadata": {
    "collapsed": false
   },
   "outputs": [
    {
     "name": "stdout",
     "output_type": "stream",
     "text": [
      "14.279979944229126\n",
      "14.232880353927612\n",
      "14.84694504737854\n",
      "15.041990280151367\n",
      "15.83909797668457\n",
      "16.072746515274048\n",
      "15.325759649276733\n",
      "16.130905389785767\n",
      "19.441705465316772\n",
      "17.622894763946533\n",
      "15.653604745864868\n",
      "15.235520124435425\n",
      "16.193068504333496\n",
      "15.480170249938965\n",
      "16.62518882751465\n",
      "17.12554669380188\n",
      "17.112513542175293\n",
      "20.787285566329956\n",
      "17.363178253173828\n",
      "19.141908168792725\n",
      "17.712106704711914\n",
      "22.826709508895874\n",
      "19.256213188171387\n",
      "20.910614728927612\n"
     ]
    }
   ],
   "source": [
    "# Plot accuracy score\n",
    "import warnings\n",
    "warnings.filterwarnings('ignore')\n",
    "\n",
    "Y_proba = []\n",
    "Y_pred = []\n",
    "Y_true = []\n",
    "full_acc_score = []\n",
    "full_acc_std = []\n",
    "full_param = []\n",
    "decision_function = []\n",
    "time_frame = range(1,25)\n",
    "for count in range(1, 25):\n",
    "    datapath = 'D:/Dropbox (Nate)/Rotation 3 Project/Data/FullData/featurematrixandtarget_%0.2dh' % count\n",
    "#     datapath='/Users/ignacioperez-pozuelo/Dropbox/Rotation 3 Project/Data/FeatData/featurematrixandtarget_%sh'%count\n",
    "    sc = get_score(datapath, 'roc_auc')\n",
    "    full_acc_score.append(sc[0])\n",
    "    full_acc_std.append(sc[1])\n",
    "    full_param.append(sc[2])\n",
    "    X = sc[3]\n",
    "    Y = sc[4]\n",
    "    Y_true.append(Y)\n",
    "    clf_sub = LogisticRegression(**sc[2],penalty='l2'\n",
    "    ,random_state=0\n",
    "    ,fit_intercept=True\n",
    "    ,tol=.01)\n",
    "    k_proba = clf_sub.fit(X,Y).predict_proba(X)\n",
    "    k_pred = clf_sub.fit(X,Y).predict(X)\n",
    "    k_df = clf_sub.fit(X,Y).decision_function(X)\n",
    "    decision_function.append(k_df)\n",
    "    Y_proba.append(k_proba)\n",
    "    Y_pred.append(k_pred)\n",
    "\n",
    "    "
   ]
  },
  {
   "cell_type": "code",
   "execution_count": 298,
   "metadata": {
    "collapsed": false
   },
   "outputs": [
    {
     "data": {
      "image/png": "[encoded data removed]",
      "text/plain": [
       "<matplotlib.figure.Figure at 0x2192feac518>"
      ]
     },
     "metadata": {},
     "output_type": "display_data"
    }
   ],
   "source": [
    "plt.errorbar(time_frame, full_acc_score, full_acc_std, linestyle='None', marker='^')\n",
    "plt.show()   "
   ]
  },
  {
   "cell_type": "code",
   "execution_count": 301,
   "metadata": {
    "collapsed": false
   },
   "outputs": [],
   "source": [
    "roc_auc_score = []\n",
    "for i in range(0,24):\n",
    "    fpr, tpr, thresholds = roc_curve(Y_true[i], decision_function[i])\n",
    "#     fpr, tpr, thresholds = roc_curve(Y_true[i], Y_proba[i][:,1])\n",
    "    roc_auc = auc(fpr, tpr)\n",
    "    roc_auc_score.append(roc_auc)"
   ]
  },
  {
   "cell_type": "code",
   "execution_count": 302,
   "metadata": {
    "collapsed": false
   },
   "outputs": [
    {
     "name": "stdout",
     "output_type": "stream",
     "text": [
      "Area is 0.62\n"
     ]
    },
    {
     "data": {
      "image/png": "[encoded data removed]",
      "text/plain": [
       "<matplotlib.figure.Figure at 0x2192fe19630>"
      ]
     },
     "metadata": {},
     "output_type": "display_data"
    }
   ],
   "source": [
    "print('Area is %0.2f' %roc_auc)\n",
    "plt.plot(time_frame, roc_auc_score, linestyle='None', marker='^')\n",
    "plt.show()   \n"
   ]
  },
  {
   "cell_type": "code",
   "execution_count": 285,
   "metadata": {
    "collapsed": false
   },
   "outputs": [
    {
     "data": {
      "text/plain": [
       "[{'C': 1.0000000000000001e-15,\n",
       "  'class_weight': 'balanced',\n",
       "  'max_iter': 10000,\n",
       "  'solver': 'newton-cg'},\n",
       " {'C': 0.0001,\n",
       "  'class_weight': 'balanced',\n",
       "  'max_iter': 10000,\n",
       "  'solver': 'newton-cg'},\n",
       " {'C': 0.0001, 'class_weight': None, 'max_iter': 10000, 'solver': 'newton-cg'},\n",
       " {'C': 1.0000000000000001e-15,\n",
       "  'class_weight': 'balanced',\n",
       "  'max_iter': 10000,\n",
       "  'solver': 'newton-cg'},\n",
       " {'C': 0.01, 'class_weight': None, 'max_iter': 10000, 'solver': 'newton-cg'},\n",
       " {'C': 10.0, 'class_weight': None, 'max_iter': 10000, 'solver': 'newton-cg'},\n",
       " {'C': 1.0000000000000001e-15,\n",
       "  'class_weight': 'balanced',\n",
       "  'max_iter': 10000,\n",
       "  'solver': 'newton-cg'},\n",
       " {'C': 0.01, 'class_weight': None, 'max_iter': 10000, 'solver': 'newton-cg'},\n",
       " {'C': 0.001, 'class_weight': None, 'max_iter': 10000, 'solver': 'newton-cg'},\n",
       " {'C': 10.0,\n",
       "  'class_weight': 'balanced',\n",
       "  'max_iter': 10000,\n",
       "  'solver': 'newton-cg'},\n",
       " {'C': 0.01, 'class_weight': None, 'max_iter': 10000, 'solver': 'newton-cg'},\n",
       " {'C': 0.001,\n",
       "  'class_weight': 'balanced',\n",
       "  'max_iter': 10000,\n",
       "  'solver': 'newton-cg'},\n",
       " {'C': 1.0000000000000001e-15,\n",
       "  'class_weight': 'balanced',\n",
       "  'max_iter': 10000,\n",
       "  'solver': 'newton-cg'},\n",
       " {'C': 1.0000000000000001e-15,\n",
       "  'class_weight': 'balanced',\n",
       "  'max_iter': 10000,\n",
       "  'solver': 'newton-cg'},\n",
       " {'C': 1.0000000000000001e-15,\n",
       "  'class_weight': 'balanced',\n",
       "  'max_iter': 10000,\n",
       "  'solver': 'newton-cg'},\n",
       " {'C': 10.0,\n",
       "  'class_weight': 'balanced',\n",
       "  'max_iter': 10000,\n",
       "  'solver': 'newton-cg'},\n",
       " {'C': 10.0, 'class_weight': None, 'max_iter': 10000, 'solver': 'newton-cg'},\n",
       " {'C': 100.0, 'class_weight': None, 'max_iter': 10000, 'solver': 'newton-cg'},\n",
       " {'C': 0.10000000000000001,\n",
       "  'class_weight': 'balanced',\n",
       "  'max_iter': 10000,\n",
       "  'solver': 'newton-cg'},\n",
       " {'C': 100.0,\n",
       "  'class_weight': 'balanced',\n",
       "  'max_iter': 10000,\n",
       "  'solver': 'newton-cg'},\n",
       " {'C': 100.0,\n",
       "  'class_weight': 'balanced',\n",
       "  'max_iter': 10000,\n",
       "  'solver': 'newton-cg'},\n",
       " {'C': 9.9999999999999995e-08,\n",
       "  'class_weight': 'balanced',\n",
       "  'max_iter': 10000,\n",
       "  'solver': 'newton-cg'},\n",
       " {'C': 1.0000000000000001e-05,\n",
       "  'class_weight': 'balanced',\n",
       "  'max_iter': 10000,\n",
       "  'solver': 'newton-cg'},\n",
       " {'C': 1.0000000000000001e-15,\n",
       "  'class_weight': 'balanced',\n",
       "  'max_iter': 10000,\n",
       "  'solver': 'newton-cg'}]"
      ]
     },
     "execution_count": 285,
     "metadata": {},
     "output_type": "execute_result"
    }
   ],
   "source": [
    "full_param"
   ]
  },
  {
   "cell_type": "code",
   "execution_count": 276,
   "metadata": {
    "collapsed": false
   },
   "outputs": [
    {
     "data": {
      "image/png": "[encoded data removed]",
      "text/plain": [
       "<matplotlib.figure.Figure at 0x2192eb906a0>"
      ]
     },
     "metadata": {},
     "output_type": "display_data"
    }
   ],
   "source": [
    "plt.plot(fpr, tpr, lw=2, color='red', label='ROC fold %d (area = %0.2f)' % (i, roc_auc))\n",
    "plt.show()\n"
   ]
  },
  {
   "cell_type": "code",
   "execution_count": 39,
   "metadata": {
    "collapsed": false
   },
   "outputs": [
    {
     "name": "stdout",
     "output_type": "stream",
     "text": [
      "3.707105875015259\n",
      "3.742274045944214\n",
      "3.5079729557037354\n",
      "3.6441001892089844\n",
      "3.9666078090667725\n",
      "3.8929247856140137\n",
      "3.773789405822754\n",
      "3.6083827018737793\n",
      "4.952988624572754\n",
      "4.513566493988037\n",
      "3.921849250793457\n",
      "3.6197729110717773\n",
      "3.4554800987243652\n",
      "3.6146633625030518\n",
      "4.02409291267395\n",
      "4.190800428390503\n",
      "4.377596378326416\n",
      "5.500088691711426\n",
      "4.295209169387817\n",
      "5.3158955574035645\n",
      "4.368031978607178\n",
      "7.606017827987671\n",
      "5.0047056674957275\n",
      "6.065720796585083\n"
     ]
    },
    {
     "data": {
      "image/png": "[encoded data removed]",
      "text/plain": [
       "<matplotlib.figure.Figure at 0x2192abd99e8>"
      ]
     },
     "metadata": {},
     "output_type": "display_data"
    }
   ],
   "source": [
    "# Plot accuracy score\n",
    "import warnings\n",
    "warnings.filterwarnings('ignore')\n",
    "\n",
    "full_acc_score = []\n",
    "full_acc_std = []\n",
    "time_frame = range(1,25)\n",
    "for count in range(1, 25):\n",
    "    datapath = 'D:/Dropbox (Nate)/Rotation 3 Project/Data/FeatData/featurematrixandtarget_%sh' % count\n",
    "#     datapath='/Users/ignacioperez-pozuelo/Dropbox/Rotation 3 Project/Data/FeatData/featurematrixandtarget_%sh'%count\n",
    "    sc = get_score(datapath, None)\n",
    "    full_acc_score.append(sc[0])\n",
    "    full_acc_std.append(sc[1])\n",
    "\n",
    "plt.errorbar(time_frame, full_acc_score, full_acc_std, linestyle='None', marker='^')\n",
    "plt.show()   \n",
    "    "
   ]
  },
  {
   "cell_type": "code",
   "execution_count": 12,
   "metadata": {
    "collapsed": false
   },
   "outputs": [
    {
     "data": {
      "image/png": "[encoded data removed]",
      "text/plain": [
       "<matplotlib.figure.Figure at 0x29d500e4a90>"
      ]
     },
     "metadata": {},
     "output_type": "display_data"
    }
   ],
   "source": [
    "plt.plot(time_frame,full_acc_score, 'k-')\n",
    "# upbound = full_acc_score + full_acc_std;\n",
    "# # lowbound = full_acc_score - full_acc_std;\n",
    "# plt.fill_between(time_frame,upbound);\n",
    "plt.fill_between(time_frame,np.array(full_acc_score)-np.array(full_acc_std),np.array(full_acc_score)+np.array(full_acc_std))\n",
    "plt.title('Accuracy Scores of Full Set')\n",
    "plt.xlabel('Time (h)')\n",
    "plt.ylabel('Accuracy')\n",
    "plt.show()"
   ]
  },
  {
   "cell_type": "code",
   "execution_count": 36,
   "metadata": {
    "collapsed": false
   },
   "outputs": [
    {
     "name": "stderr",
     "output_type": "stream",
     "text": [
      "/Users/ignacioperez-pozuelo/anaconda/lib/python3.6/site-packages/ipykernel/__main__.py:5: MatplotlibDeprecationWarning: pyplot.hold is deprecated.\n",
      "    Future behavior will be consistent with the long-time default:\n",
      "    plot commands add elements without first clearing the\n",
      "    Axes and/or Figure.\n",
      "/Users/ignacioperez-pozuelo/anaconda/lib/python3.6/site-packages/matplotlib/__init__.py:917: UserWarning: axes.hold is deprecated. Please remove it from your matplotlibrc and/or style files.\n",
      "  warnings.warn(self.msg_depr_set % key)\n",
      "/Users/ignacioperez-pozuelo/anaconda/lib/python3.6/site-packages/matplotlib/rcsetup.py:152: UserWarning: axes.hold is deprecated, will be removed in 3.0\n",
      "  warnings.warn(\"axes.hold is deprecated, will be removed in 3.0\")\n"
     ]
    },
    {
     "data": {
      "image/png": "[encoded data removed]",
      "text/plain": [
       "<matplotlib.figure.Figure at 0x11a50c390>"
      ]
     },
     "metadata": {},
     "output_type": "display_data"
    }
   ],
   "source": [
    "from matplotlib import pyplot as pl\n",
    "import numpy as np\n",
    "\n",
    "# Plot Generated with Dummy Data\n",
    "pl.clf()\n",
    "pl.hold(1)\n",
    "\n",
    "x = np.linspace(0, 30, 100)\n",
    "y = np.sin(x) * 0.5\n",
    "pl.plot(x, y, '-k')\n",
    "\n",
    "\n",
    "x = np.linspace(0, 30, 30)\n",
    "y = np.sin(x/6*np.pi)\n",
    "error = np.random.normal(0.1, 0.02, size=y.shape) +.1\n",
    "y += np.random.normal(0, 0.1, size=y.shape)\n",
    "\n",
    "pl.plot(x, y, 'k', color='#CC4F1B')\n",
    "pl.fill_between(x, y-error, y+error,\n",
    "    alpha=0.5, edgecolor='#CC4F1B', facecolor='#FF9848')\n",
    "\n",
    "y = np.cos(x/6*np.pi)    \n",
    "error = np.random.rand(len(y)) * 0.5\n",
    "y += np.random.normal(0, 0.1, size=y.shape)\n",
    "pl.plot(x, y, 'k', color='#1B2ACC')\n",
    "pl.fill_between(x, y-error, y+error,\n",
    "    alpha=0.2, edgecolor='#1B2ACC', facecolor='#089FFF',\n",
    "    linewidth=4, linestyle='dashdot', antialiased=True)\n",
    "\n",
    "\n",
    "\n",
    "y = np.cos(x/6*np.pi)  + np.sin(x/3*np.pi)  \n",
    "error = np.random.rand(len(y)) * 0.5\n",
    "y += np.random.normal(0, 0.1, size=y.shape)\n",
    "pl.plot(x, y, 'k', color='#3F7F4C')\n",
    "pl.fill_between(x, y-error, y+error,\n",
    "    alpha=1, edgecolor='#3F7F4C', facecolor='#7EFF99',\n",
    "    linewidth=0)\n",
    "\n",
    "plt.title('Accuracy Scores of Full Set')\n",
    "plt.xlabel('Time (h)')\n",
    "plt.ylabel('Accuracy')\n",
    "\n",
    "pl.show()"
   ]
  },
  {
   "cell_type": "code",
   "execution_count": 41,
   "metadata": {
    "collapsed": false
   },
   "outputs": [
    {
     "data": {
      "text/plain": [
       "array([ 0.69833333,  0.71805556,  0.69833333,  0.73972222,  0.78083333,\n",
       "        0.73166667,  0.74277778,  0.73166667,  0.75277778,  0.73611111,\n",
       "        0.725     ,  0.72619048,  0.72261905,  0.71904762,  0.72738095,\n",
       "        0.72380952,  0.72857143,  0.73690476,  0.73690476,  0.7347619 ,\n",
       "        0.72666667,  0.7352381 ,  0.73428571,  0.75      ])"
      ]
     },
     "execution_count": 41,
     "metadata": {},
     "output_type": "execute_result"
    }
   ],
   "source": [
    "k = np.array(full_acc_score)\n",
    "k"
   ]
  },
  {
   "cell_type": "code",
   "execution_count": 30,
   "metadata": {
    "collapsed": false
   },
   "outputs": [
    {
     "name": "stderr",
     "output_type": "stream",
     "text": [
      "C:\\Users\\ntran\\Anaconda3\\lib\\site-packages\\sklearn\\utils\\class_weight.py:65: DeprecationWarning: The class_weight='auto' heuristic is deprecated in 0.17 in favor of a new heuristic class_weight='balanced'. 'auto' will be removed in 0.19\n",
      "  \" 0.19\", DeprecationWarning)\n",
      "C:\\Users\\ntran\\Anaconda3\\lib\\site-packages\\sklearn\\utils\\class_weight.py:65: DeprecationWarning: The class_weight='auto' heuristic is deprecated in 0.17 in favor of a new heuristic class_weight='balanced'. 'auto' will be removed in 0.19\n",
      "  \" 0.19\", DeprecationWarning)\n",
      "C:\\Users\\ntran\\Anaconda3\\lib\\site-packages\\sklearn\\utils\\class_weight.py:65: DeprecationWarning: The class_weight='auto' heuristic is deprecated in 0.17 in favor of a new heuristic class_weight='balanced'. 'auto' will be removed in 0.19\n",
      "  \" 0.19\", DeprecationWarning)\n",
      "C:\\Users\\ntran\\Anaconda3\\lib\\site-packages\\sklearn\\utils\\class_weight.py:65: DeprecationWarning: The class_weight='auto' heuristic is deprecated in 0.17 in favor of a new heuristic class_weight='balanced'. 'auto' will be removed in 0.19\n",
      "  \" 0.19\", DeprecationWarning)\n",
      "C:\\Users\\ntran\\Anaconda3\\lib\\site-packages\\sklearn\\utils\\class_weight.py:65: DeprecationWarning: The class_weight='auto' heuristic is deprecated in 0.17 in favor of a new heuristic class_weight='balanced'. 'auto' will be removed in 0.19\n",
      "  \" 0.19\", DeprecationWarning)\n",
      "C:\\Users\\ntran\\Anaconda3\\lib\\site-packages\\sklearn\\utils\\class_weight.py:65: DeprecationWarning: The class_weight='auto' heuristic is deprecated in 0.17 in favor of a new heuristic class_weight='balanced'. 'auto' will be removed in 0.19\n",
      "  \" 0.19\", DeprecationWarning)\n",
      "C:\\Users\\ntran\\Anaconda3\\lib\\site-packages\\sklearn\\utils\\class_weight.py:65: DeprecationWarning: The class_weight='auto' heuristic is deprecated in 0.17 in favor of a new heuristic class_weight='balanced'. 'auto' will be removed in 0.19\n",
      "  \" 0.19\", DeprecationWarning)\n",
      "C:\\Users\\ntran\\Anaconda3\\lib\\site-packages\\sklearn\\utils\\class_weight.py:65: DeprecationWarning: The class_weight='auto' heuristic is deprecated in 0.17 in favor of a new heuristic class_weight='balanced'. 'auto' will be removed in 0.19\n",
      "  \" 0.19\", DeprecationWarning)\n",
      "C:\\Users\\ntran\\Anaconda3\\lib\\site-packages\\sklearn\\utils\\class_weight.py:65: DeprecationWarning: The class_weight='auto' heuristic is deprecated in 0.17 in favor of a new heuristic class_weight='balanced'. 'auto' will be removed in 0.19\n",
      "  \" 0.19\", DeprecationWarning)\n",
      "C:\\Users\\ntran\\Anaconda3\\lib\\site-packages\\sklearn\\utils\\class_weight.py:65: DeprecationWarning: The class_weight='auto' heuristic is deprecated in 0.17 in favor of a new heuristic class_weight='balanced'. 'auto' will be removed in 0.19\n",
      "  \" 0.19\", DeprecationWarning)\n",
      "C:\\Users\\ntran\\Anaconda3\\lib\\site-packages\\sklearn\\utils\\class_weight.py:65: DeprecationWarning: The class_weight='auto' heuristic is deprecated in 0.17 in favor of a new heuristic class_weight='balanced'. 'auto' will be removed in 0.19\n",
      "  \" 0.19\", DeprecationWarning)\n",
      "C:\\Users\\ntran\\Anaconda3\\lib\\site-packages\\sklearn\\utils\\class_weight.py:65: DeprecationWarning: The class_weight='auto' heuristic is deprecated in 0.17 in favor of a new heuristic class_weight='balanced'. 'auto' will be removed in 0.19\n",
      "  \" 0.19\", DeprecationWarning)\n",
      "C:\\Users\\ntran\\Anaconda3\\lib\\site-packages\\sklearn\\utils\\class_weight.py:65: DeprecationWarning: The class_weight='auto' heuristic is deprecated in 0.17 in favor of a new heuristic class_weight='balanced'. 'auto' will be removed in 0.19\n",
      "  \" 0.19\", DeprecationWarning)\n",
      "C:\\Users\\ntran\\Anaconda3\\lib\\site-packages\\sklearn\\utils\\class_weight.py:65: DeprecationWarning: The class_weight='auto' heuristic is deprecated in 0.17 in favor of a new heuristic class_weight='balanced'. 'auto' will be removed in 0.19\n",
      "  \" 0.19\", DeprecationWarning)\n",
      "C:\\Users\\ntran\\Anaconda3\\lib\\site-packages\\sklearn\\utils\\class_weight.py:65: DeprecationWarning: The class_weight='auto' heuristic is deprecated in 0.17 in favor of a new heuristic class_weight='balanced'. 'auto' will be removed in 0.19\n",
      "  \" 0.19\", DeprecationWarning)\n",
      "C:\\Users\\ntran\\Anaconda3\\lib\\site-packages\\sklearn\\utils\\class_weight.py:65: DeprecationWarning: The class_weight='auto' heuristic is deprecated in 0.17 in favor of a new heuristic class_weight='balanced'. 'auto' will be removed in 0.19\n",
      "  \" 0.19\", DeprecationWarning)\n",
      "C:\\Users\\ntran\\Anaconda3\\lib\\site-packages\\sklearn\\utils\\class_weight.py:65: DeprecationWarning: The class_weight='auto' heuristic is deprecated in 0.17 in favor of a new heuristic class_weight='balanced'. 'auto' will be removed in 0.19\n",
      "  \" 0.19\", DeprecationWarning)\n",
      "C:\\Users\\ntran\\Anaconda3\\lib\\site-packages\\sklearn\\utils\\class_weight.py:65: DeprecationWarning: The class_weight='auto' heuristic is deprecated in 0.17 in favor of a new heuristic class_weight='balanced'. 'auto' will be removed in 0.19\n",
      "  \" 0.19\", DeprecationWarning)\n",
      "C:\\Users\\ntran\\Anaconda3\\lib\\site-packages\\sklearn\\utils\\class_weight.py:65: DeprecationWarning: The class_weight='auto' heuristic is deprecated in 0.17 in favor of a new heuristic class_weight='balanced'. 'auto' will be removed in 0.19\n",
      "  \" 0.19\", DeprecationWarning)\n",
      "C:\\Users\\ntran\\Anaconda3\\lib\\site-packages\\sklearn\\utils\\class_weight.py:65: DeprecationWarning: The class_weight='auto' heuristic is deprecated in 0.17 in favor of a new heuristic class_weight='balanced'. 'auto' will be removed in 0.19\n",
      "  \" 0.19\", DeprecationWarning)\n",
      "C:\\Users\\ntran\\Anaconda3\\lib\\site-packages\\sklearn\\utils\\class_weight.py:65: DeprecationWarning: The class_weight='auto' heuristic is deprecated in 0.17 in favor of a new heuristic class_weight='balanced'. 'auto' will be removed in 0.19\n",
      "  \" 0.19\", DeprecationWarning)\n",
      "C:\\Users\\ntran\\Anaconda3\\lib\\site-packages\\sklearn\\utils\\class_weight.py:65: DeprecationWarning: The class_weight='auto' heuristic is deprecated in 0.17 in favor of a new heuristic class_weight='balanced'. 'auto' will be removed in 0.19\n",
      "  \" 0.19\", DeprecationWarning)\n",
      "C:\\Users\\ntran\\Anaconda3\\lib\\site-packages\\sklearn\\utils\\class_weight.py:65: DeprecationWarning: The class_weight='auto' heuristic is deprecated in 0.17 in favor of a new heuristic class_weight='balanced'. 'auto' will be removed in 0.19\n",
      "  \" 0.19\", DeprecationWarning)\n",
      "C:\\Users\\ntran\\Anaconda3\\lib\\site-packages\\sklearn\\utils\\class_weight.py:65: DeprecationWarning: The class_weight='auto' heuristic is deprecated in 0.17 in favor of a new heuristic class_weight='balanced'. 'auto' will be removed in 0.19\n",
      "  \" 0.19\", DeprecationWarning)\n"
     ]
    },
    {
     "data": {
      "image/png": "[encoded data removed]",
      "text/plain": [
       "<matplotlib.figure.Figure at 0x29d50220ef0>"
      ]
     },
     "metadata": {},
     "output_type": "display_data"
    }
   ],
   "source": [
    "# Plot area under the curve\n",
    "\n",
    "full_auc_score = []\n",
    "full_auc_std = []\n",
    "time_frame = range(1,25)\n",
    "for count in range(1, 25):\n",
    "    datapath = 'D:/Dropbox (Nate)/Rotation 3 Project/Data/FeatData/featurematrixandtarget_%sh' % count\n",
    "#     datapath='/Users/ignacioperez-pozuelo/Dropbox/Rotation 3 Project/Data/FeatData/featurematrixandtarget_%sh'\n",
    "    sc = get_score(datapath, 'roc_auc')\n",
    "    full_auc_score.append(sc[0])\n",
    "    full_auc_std.append(sc[1])\n",
    "plt.errorbar(time_frame, full_auc_score, full_auc_std, linestyle='None', marker='^')\n",
    "plt.show()\n",
    "   \n"
   ]
  },
  {
   "cell_type": "code",
   "execution_count": 522,
   "metadata": {
    "collapsed": false
   },
   "outputs": [
    {
     "name": "stderr",
     "output_type": "stream",
     "text": [
      "C:\\Users\\ntran\\Anaconda3\\lib\\site-packages\\sklearn\\metrics\\classification.py:1113: UndefinedMetricWarning: Precision is ill-defined and being set to 0.0 due to no predicted samples.\n",
      "  'precision', 'predicted', average, warn_for)\n"
     ]
    },
    {
     "data": {
      "image/png": "[encoded data removed]",
      "text/plain": [
       "<matplotlib.figure.Figure at 0x1d11bd3d358>"
      ]
     },
     "metadata": {},
     "output_type": "display_data"
    }
   ],
   "source": [
    "# Plot precsion score\n",
    "\n",
    "full_pre_score = []\n",
    "full_pre_std = []\n",
    "time_frame = range(1,25)\n",
    "for count in range(1, 25):\n",
    "    datapath = 'D:/Dropbox (Nate)/Rotation 3 Project/Data/FeatData/featurematrixandtarget_%sh' % count\n",
    "    sc = get_accuracy_score(datapath, 'precision')\n",
    "    full_pre_score.append(sc[0])\n",
    "    full_pre_std.append(sc[1])\n",
    "plt.errorbar(time_frame, full_pre_score, full_pre_std, linestyle='None', marker='^')\n",
    "plt.show()"
   ]
  },
  {
   "cell_type": "code",
   "execution_count": 523,
   "metadata": {
    "collapsed": false
   },
   "outputs": [
    {
     "data": {
      "image/png": "[encoded data removed]",
      "text/plain": [
       "<matplotlib.figure.Figure at 0x1d11a37f7f0>"
      ]
     },
     "metadata": {},
     "output_type": "display_data"
    }
   ],
   "source": [
    "# Plot recall score\n",
    "\n",
    "full_recall_score = []\n",
    "full_recall_std = []\n",
    "time_frame = range(1,25)\n",
    "for count in range(1, 25):\n",
    "    datapath = 'D:/Dropbox (Nate)/Rotation 3 Project/Data/FeatData/featurematrixandtarget_%sh' % count\n",
    "    sc = get_accuracy_score(datapath, 'recall')\n",
    "    full_recall_score.append(sc[0])\n",
    "    full_recall_std.append(sc[1])\n",
    "plt.errorbar(time_frame, full_recall_score, full_recall_std, linestyle='None', marker='^')\n",
    "plt.show()"
   ]
  },
  {
   "cell_type": "code",
   "execution_count": 14,
   "metadata": {
    "collapsed": false
   },
   "outputs": [
    {
     "name": "stderr",
     "output_type": "stream",
     "text": [
      "/Users/ignacioperez-pozuelo/anaconda/lib/python3.6/site-packages/sklearn/base.py:315: UserWarning: Trying to unpickle estimator DecisionTreeClassifier from version 0.18 when using version 0.18.1. This might lead to breaking code or invalid results. Use at your own risk.\n",
      "  UserWarning)\n",
      "/Users/ignacioperez-pozuelo/anaconda/lib/python3.6/site-packages/sklearn/base.py:315: UserWarning: Trying to unpickle estimator RandomForestClassifier from version 0.18 when using version 0.18.1. This might lead to breaking code or invalid results. Use at your own risk.\n",
      "  UserWarning)\n"
     ]
    },
    {
     "ename": "UnpicklingError",
     "evalue": "invalid load key, '\\x00'.",
     "output_type": "error",
     "traceback": [
      "\u001b[0;31m---------------------------------------------------------------------------\u001b[0m",
      "\u001b[0;31mUnpicklingError\u001b[0m                           Traceback (most recent call last)",
      "\u001b[0;32m<ipython-input-14-95dc472942dd>\u001b[0m in \u001b[0;36m<module>\u001b[0;34m()\u001b[0m\n\u001b[1;32m      4\u001b[0m \u001b[0;31m# with open('D:/Dropbox (Nate)/Rotation 3 Project/Models/RFcvgridsearch_01h.pkl', 'rb') as f:\u001b[0m\u001b[0;34m\u001b[0m\u001b[0;34m\u001b[0m\u001b[0m\n\u001b[1;32m      5\u001b[0m \u001b[0;32mwith\u001b[0m \u001b[0mopen\u001b[0m\u001b[0;34m(\u001b[0m\u001b[0;34m'/Users/ignacioperez-pozuelo/Dropbox/Rotation 3 Project/Models/RFcvgridsearch_01h.pkl'\u001b[0m\u001b[0;34m,\u001b[0m \u001b[0;34m'rb'\u001b[0m\u001b[0;34m)\u001b[0m \u001b[0;32mas\u001b[0m \u001b[0mf\u001b[0m\u001b[0;34m:\u001b[0m\u001b[0;34m\u001b[0m\u001b[0m\n\u001b[0;32m----> 6\u001b[0;31m     \u001b[0mdata\u001b[0m \u001b[0;34m=\u001b[0m \u001b[0mpickle\u001b[0m\u001b[0;34m.\u001b[0m\u001b[0mload\u001b[0m\u001b[0;34m(\u001b[0m\u001b[0mf\u001b[0m\u001b[0;34m)\u001b[0m\u001b[0;34m.\u001b[0m\u001b[0mreplace\u001b[0m\u001b[0;34m(\u001b[0m\u001b[0;34m'\\r\\n'\u001b[0m\u001b[0;34m,\u001b[0m \u001b[0;34m'\\n'\u001b[0m\u001b[0;34m)\u001b[0m\u001b[0;34m\u001b[0m\u001b[0m\n\u001b[0m\u001b[1;32m      7\u001b[0m \u001b[0;34m\u001b[0m\u001b[0m\n\u001b[1;32m      8\u001b[0m \u001b[0;31m# data = open(\"D:/Dropbox (Nate)/Rotation 3 Project/Models/RFcvgridsearch_01h.pkl\", \"rb\").read()\u001b[0m\u001b[0;34m\u001b[0m\u001b[0;34m\u001b[0m\u001b[0m\n",
      "\u001b[0;31mUnpicklingError\u001b[0m: invalid load key, '\\x00'."
     ]
    }
   ],
   "source": [
    "import pickle\n",
    "\n",
    "\n",
    "# with open('D:/Dropbox (Nate)/Rotation 3 Project/Models/RFcvgridsearch_01h.pkl', 'rb') as f:\n",
    "with open('/Users/ignacioperez-pozuelo/Dropbox/Rotation 3 Project/Models/RFcvgridsearch_01h.pkl', 'rb') as f:\n",
    "    data = pickle.load(f).replace('\\r\\n', '\\n')\n",
    "\n",
    "# data = open(\"D:/Dropbox (Nate)/Rotation 3 Project/Models/RFcvgridsearch_01h.pkl\", \"rb\").read()\n",
    "# data = open(\"/Users/ignacioperez-pozuelo/Dropbox/Rotation 3 Project/Models/RFcvgridsearch_01h.pkl\", \"rb\").read()\n",
    "\n",
    "# newdata = data.replace(\"\\n\",\"\\r\\n\")\n",
    "# if newdata != data:\n",
    "#     f = open(\"D:/Dropbox (Nate)/Rotation 3 Project/Models/RFcvgridsearch_01h.pkl\", \"wb\")\n",
    "#     f.write(newdata)\n",
    "#     f.close()\n",
    "# data"
   ]
  },
  {
   "cell_type": "code",
   "execution_count": null,
   "metadata": {
    "collapsed": true
   },
   "outputs": [],
   "source": []
  }
 ],
 "metadata": {
  "anaconda-cloud": {},
  "kernelspec": {
   "display_name": "Python [default]",
   "language": "python",
   "name": "python3"
  },
  "language_info": {
   "codemirror_mode": {
    "name": "ipython",
    "version": 3
   },
   "file_extension": ".py",
   "mimetype": "text/x-python",
   "name": "python",
   "nbconvert_exporter": "python",
   "pygments_lexer": "ipython3",
   "version": "3.5.2"
  }
 },
 "nbformat": 4,
 "nbformat_minor": 1
}
